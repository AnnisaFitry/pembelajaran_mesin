{
 "cells": [
  {
   "cell_type": "markdown",
   "metadata": {},
   "source": [
    "# __TUGAS MINGGU 9__\n",
    "\n",
    "Nama : Annisa Fitri Yuliandra\n",
    "\n",
    "Kelas : TI 3B\n",
    "\n",
    "NIM : 2041720123 "
   ]
  },
  {
   "cell_type": "markdown",
   "metadata": {},
   "source": [
    "## __Tugas 1 : Bagging__\n",
    "\n",
    "Pada folder data, terdapat dataset jamur yang kita gunakan pada materi Decision Tree. Berdasarkan dataset yang sama, bandingkan peforma antara algoritma DT dan RandomForest. Gunakan tunning hyperparameter untuk mendapatkan parameter dan akurasi yang terbaik."
   ]
  },
  {
   "cell_type": "code",
   "execution_count": 1,
   "metadata": {},
   "outputs": [],
   "source": [
    "import numpy as np\n",
    "import pandas as pd\n",
    "from sklearn.tree import DecisionTreeClassifier # import DT\n",
    "from sklearn.ensemble import RandomForestClassifier # import RandomForest\n",
    "from sklearn.model_selection import train_test_split\n",
    "from sklearn.metrics import accuracy_score, classification_report"
   ]
  },
  {
   "cell_type": "code",
   "execution_count": 2,
   "metadata": {},
   "outputs": [
    {
     "data": {
      "text/html": [
       "<div>\n",
       "<style scoped>\n",
       "    .dataframe tbody tr th:only-of-type {\n",
       "        vertical-align: middle;\n",
       "    }\n",
       "\n",
       "    .dataframe tbody tr th {\n",
       "        vertical-align: top;\n",
       "    }\n",
       "\n",
       "    .dataframe thead th {\n",
       "        text-align: right;\n",
       "    }\n",
       "</style>\n",
       "<table border=\"1\" class=\"dataframe\">\n",
       "  <thead>\n",
       "    <tr style=\"text-align: right;\">\n",
       "      <th></th>\n",
       "      <th>class</th>\n",
       "      <th>cap-shape</th>\n",
       "      <th>cap-surface</th>\n",
       "      <th>cap-color</th>\n",
       "      <th>bruises</th>\n",
       "      <th>odor</th>\n",
       "      <th>gill-attachment</th>\n",
       "      <th>gill-spacing</th>\n",
       "      <th>gill-size</th>\n",
       "      <th>gill-color</th>\n",
       "      <th>...</th>\n",
       "      <th>stalk-surface-below-ring</th>\n",
       "      <th>stalk-color-above-ring</th>\n",
       "      <th>stalk-color-below-ring</th>\n",
       "      <th>veil-type</th>\n",
       "      <th>veil-color</th>\n",
       "      <th>ring-number</th>\n",
       "      <th>ring-type</th>\n",
       "      <th>spore-print-color</th>\n",
       "      <th>population</th>\n",
       "      <th>habitat</th>\n",
       "    </tr>\n",
       "  </thead>\n",
       "  <tbody>\n",
       "    <tr>\n",
       "      <th>0</th>\n",
       "      <td>p</td>\n",
       "      <td>x</td>\n",
       "      <td>s</td>\n",
       "      <td>n</td>\n",
       "      <td>t</td>\n",
       "      <td>p</td>\n",
       "      <td>f</td>\n",
       "      <td>c</td>\n",
       "      <td>n</td>\n",
       "      <td>k</td>\n",
       "      <td>...</td>\n",
       "      <td>s</td>\n",
       "      <td>w</td>\n",
       "      <td>w</td>\n",
       "      <td>p</td>\n",
       "      <td>w</td>\n",
       "      <td>o</td>\n",
       "      <td>p</td>\n",
       "      <td>k</td>\n",
       "      <td>s</td>\n",
       "      <td>u</td>\n",
       "    </tr>\n",
       "    <tr>\n",
       "      <th>1</th>\n",
       "      <td>e</td>\n",
       "      <td>x</td>\n",
       "      <td>s</td>\n",
       "      <td>y</td>\n",
       "      <td>t</td>\n",
       "      <td>a</td>\n",
       "      <td>f</td>\n",
       "      <td>c</td>\n",
       "      <td>b</td>\n",
       "      <td>k</td>\n",
       "      <td>...</td>\n",
       "      <td>s</td>\n",
       "      <td>w</td>\n",
       "      <td>w</td>\n",
       "      <td>p</td>\n",
       "      <td>w</td>\n",
       "      <td>o</td>\n",
       "      <td>p</td>\n",
       "      <td>n</td>\n",
       "      <td>n</td>\n",
       "      <td>g</td>\n",
       "    </tr>\n",
       "    <tr>\n",
       "      <th>2</th>\n",
       "      <td>e</td>\n",
       "      <td>b</td>\n",
       "      <td>s</td>\n",
       "      <td>w</td>\n",
       "      <td>t</td>\n",
       "      <td>l</td>\n",
       "      <td>f</td>\n",
       "      <td>c</td>\n",
       "      <td>b</td>\n",
       "      <td>n</td>\n",
       "      <td>...</td>\n",
       "      <td>s</td>\n",
       "      <td>w</td>\n",
       "      <td>w</td>\n",
       "      <td>p</td>\n",
       "      <td>w</td>\n",
       "      <td>o</td>\n",
       "      <td>p</td>\n",
       "      <td>n</td>\n",
       "      <td>n</td>\n",
       "      <td>m</td>\n",
       "    </tr>\n",
       "    <tr>\n",
       "      <th>3</th>\n",
       "      <td>p</td>\n",
       "      <td>x</td>\n",
       "      <td>y</td>\n",
       "      <td>w</td>\n",
       "      <td>t</td>\n",
       "      <td>p</td>\n",
       "      <td>f</td>\n",
       "      <td>c</td>\n",
       "      <td>n</td>\n",
       "      <td>n</td>\n",
       "      <td>...</td>\n",
       "      <td>s</td>\n",
       "      <td>w</td>\n",
       "      <td>w</td>\n",
       "      <td>p</td>\n",
       "      <td>w</td>\n",
       "      <td>o</td>\n",
       "      <td>p</td>\n",
       "      <td>k</td>\n",
       "      <td>s</td>\n",
       "      <td>u</td>\n",
       "    </tr>\n",
       "    <tr>\n",
       "      <th>4</th>\n",
       "      <td>e</td>\n",
       "      <td>x</td>\n",
       "      <td>s</td>\n",
       "      <td>g</td>\n",
       "      <td>f</td>\n",
       "      <td>n</td>\n",
       "      <td>f</td>\n",
       "      <td>w</td>\n",
       "      <td>b</td>\n",
       "      <td>k</td>\n",
       "      <td>...</td>\n",
       "      <td>s</td>\n",
       "      <td>w</td>\n",
       "      <td>w</td>\n",
       "      <td>p</td>\n",
       "      <td>w</td>\n",
       "      <td>o</td>\n",
       "      <td>e</td>\n",
       "      <td>n</td>\n",
       "      <td>a</td>\n",
       "      <td>g</td>\n",
       "    </tr>\n",
       "  </tbody>\n",
       "</table>\n",
       "<p>5 rows × 23 columns</p>\n",
       "</div>"
      ],
      "text/plain": [
       "  class cap-shape cap-surface cap-color bruises odor gill-attachment  \\\n",
       "0     p         x           s         n       t    p               f   \n",
       "1     e         x           s         y       t    a               f   \n",
       "2     e         b           s         w       t    l               f   \n",
       "3     p         x           y         w       t    p               f   \n",
       "4     e         x           s         g       f    n               f   \n",
       "\n",
       "  gill-spacing gill-size gill-color  ... stalk-surface-below-ring  \\\n",
       "0            c         n          k  ...                        s   \n",
       "1            c         b          k  ...                        s   \n",
       "2            c         b          n  ...                        s   \n",
       "3            c         n          n  ...                        s   \n",
       "4            w         b          k  ...                        s   \n",
       "\n",
       "  stalk-color-above-ring stalk-color-below-ring veil-type veil-color  \\\n",
       "0                      w                      w         p          w   \n",
       "1                      w                      w         p          w   \n",
       "2                      w                      w         p          w   \n",
       "3                      w                      w         p          w   \n",
       "4                      w                      w         p          w   \n",
       "\n",
       "  ring-number ring-type spore-print-color population habitat  \n",
       "0           o         p                 k          s       u  \n",
       "1           o         p                 n          n       g  \n",
       "2           o         p                 n          n       m  \n",
       "3           o         p                 k          s       u  \n",
       "4           o         e                 n          a       g  \n",
       "\n",
       "[5 rows x 23 columns]"
      ]
     },
     "metadata": {},
     "output_type": "display_data"
    }
   ],
   "source": [
    "# Load dataset\n",
    "mushrooms = pd.read_csv('data/mushrooms.csv')\n",
    "\n",
    "# Inspeksi data\n",
    "display(mushrooms.head())"
   ]
  },
  {
   "cell_type": "code",
   "execution_count": 3,
   "metadata": {},
   "outputs": [
    {
     "data": {
      "text/html": [
       "<div>\n",
       "<style scoped>\n",
       "    .dataframe tbody tr th:only-of-type {\n",
       "        vertical-align: middle;\n",
       "    }\n",
       "\n",
       "    .dataframe tbody tr th {\n",
       "        vertical-align: top;\n",
       "    }\n",
       "\n",
       "    .dataframe thead th {\n",
       "        text-align: right;\n",
       "    }\n",
       "</style>\n",
       "<table border=\"1\" class=\"dataframe\">\n",
       "  <thead>\n",
       "    <tr style=\"text-align: right;\">\n",
       "      <th></th>\n",
       "      <th>class</th>\n",
       "      <th>cap-shape</th>\n",
       "      <th>cap-surface</th>\n",
       "      <th>cap-color</th>\n",
       "      <th>bruises</th>\n",
       "      <th>odor</th>\n",
       "      <th>gill-attachment</th>\n",
       "      <th>gill-spacing</th>\n",
       "      <th>gill-size</th>\n",
       "      <th>gill-color</th>\n",
       "      <th>...</th>\n",
       "      <th>stalk-surface-below-ring</th>\n",
       "      <th>stalk-color-above-ring</th>\n",
       "      <th>stalk-color-below-ring</th>\n",
       "      <th>veil-type</th>\n",
       "      <th>veil-color</th>\n",
       "      <th>ring-number</th>\n",
       "      <th>ring-type</th>\n",
       "      <th>spore-print-color</th>\n",
       "      <th>population</th>\n",
       "      <th>habitat</th>\n",
       "    </tr>\n",
       "  </thead>\n",
       "  <tbody>\n",
       "    <tr>\n",
       "      <th>count</th>\n",
       "      <td>8124</td>\n",
       "      <td>8124</td>\n",
       "      <td>8124</td>\n",
       "      <td>8124</td>\n",
       "      <td>8124</td>\n",
       "      <td>8124</td>\n",
       "      <td>8124</td>\n",
       "      <td>8124</td>\n",
       "      <td>8124</td>\n",
       "      <td>8124</td>\n",
       "      <td>...</td>\n",
       "      <td>8124</td>\n",
       "      <td>8124</td>\n",
       "      <td>8124</td>\n",
       "      <td>8124</td>\n",
       "      <td>8124</td>\n",
       "      <td>8124</td>\n",
       "      <td>8124</td>\n",
       "      <td>8124</td>\n",
       "      <td>8124</td>\n",
       "      <td>8124</td>\n",
       "    </tr>\n",
       "    <tr>\n",
       "      <th>unique</th>\n",
       "      <td>2</td>\n",
       "      <td>6</td>\n",
       "      <td>4</td>\n",
       "      <td>10</td>\n",
       "      <td>2</td>\n",
       "      <td>9</td>\n",
       "      <td>2</td>\n",
       "      <td>2</td>\n",
       "      <td>2</td>\n",
       "      <td>12</td>\n",
       "      <td>...</td>\n",
       "      <td>4</td>\n",
       "      <td>9</td>\n",
       "      <td>9</td>\n",
       "      <td>1</td>\n",
       "      <td>4</td>\n",
       "      <td>3</td>\n",
       "      <td>5</td>\n",
       "      <td>9</td>\n",
       "      <td>6</td>\n",
       "      <td>7</td>\n",
       "    </tr>\n",
       "    <tr>\n",
       "      <th>top</th>\n",
       "      <td>e</td>\n",
       "      <td>x</td>\n",
       "      <td>y</td>\n",
       "      <td>n</td>\n",
       "      <td>f</td>\n",
       "      <td>n</td>\n",
       "      <td>f</td>\n",
       "      <td>c</td>\n",
       "      <td>b</td>\n",
       "      <td>b</td>\n",
       "      <td>...</td>\n",
       "      <td>s</td>\n",
       "      <td>w</td>\n",
       "      <td>w</td>\n",
       "      <td>p</td>\n",
       "      <td>w</td>\n",
       "      <td>o</td>\n",
       "      <td>p</td>\n",
       "      <td>w</td>\n",
       "      <td>v</td>\n",
       "      <td>d</td>\n",
       "    </tr>\n",
       "    <tr>\n",
       "      <th>freq</th>\n",
       "      <td>4208</td>\n",
       "      <td>3656</td>\n",
       "      <td>3244</td>\n",
       "      <td>2284</td>\n",
       "      <td>4748</td>\n",
       "      <td>3528</td>\n",
       "      <td>7914</td>\n",
       "      <td>6812</td>\n",
       "      <td>5612</td>\n",
       "      <td>1728</td>\n",
       "      <td>...</td>\n",
       "      <td>4936</td>\n",
       "      <td>4464</td>\n",
       "      <td>4384</td>\n",
       "      <td>8124</td>\n",
       "      <td>7924</td>\n",
       "      <td>7488</td>\n",
       "      <td>3968</td>\n",
       "      <td>2388</td>\n",
       "      <td>4040</td>\n",
       "      <td>3148</td>\n",
       "    </tr>\n",
       "  </tbody>\n",
       "</table>\n",
       "<p>4 rows × 23 columns</p>\n",
       "</div>"
      ],
      "text/plain": [
       "       class cap-shape cap-surface cap-color bruises  odor gill-attachment  \\\n",
       "count   8124      8124        8124      8124    8124  8124            8124   \n",
       "unique     2         6           4        10       2     9               2   \n",
       "top        e         x           y         n       f     n               f   \n",
       "freq    4208      3656        3244      2284    4748  3528            7914   \n",
       "\n",
       "       gill-spacing gill-size gill-color  ... stalk-surface-below-ring  \\\n",
       "count          8124      8124       8124  ...                     8124   \n",
       "unique            2         2         12  ...                        4   \n",
       "top               c         b          b  ...                        s   \n",
       "freq           6812      5612       1728  ...                     4936   \n",
       "\n",
       "       stalk-color-above-ring stalk-color-below-ring veil-type veil-color  \\\n",
       "count                    8124                   8124      8124       8124   \n",
       "unique                      9                      9         1          4   \n",
       "top                         w                      w         p          w   \n",
       "freq                     4464                   4384      8124       7924   \n",
       "\n",
       "       ring-number ring-type spore-print-color population habitat  \n",
       "count         8124      8124              8124       8124    8124  \n",
       "unique           3         5                 9          6       7  \n",
       "top              o         p                 w          v       d  \n",
       "freq          7488      3968              2388       4040    3148  \n",
       "\n",
       "[4 rows x 23 columns]"
      ]
     },
     "metadata": {},
     "output_type": "display_data"
    }
   ],
   "source": [
    "# Cek Deskripsi Data\n",
    "display(mushrooms.describe())"
   ]
  },
  {
   "cell_type": "code",
   "execution_count": 4,
   "metadata": {},
   "outputs": [
    {
     "data": {
      "text/plain": [
       "class                       0\n",
       "cap-shape                   0\n",
       "cap-surface                 0\n",
       "cap-color                   0\n",
       "bruises                     0\n",
       "odor                        0\n",
       "gill-attachment             0\n",
       "gill-spacing                0\n",
       "gill-size                   0\n",
       "gill-color                  0\n",
       "stalk-shape                 0\n",
       "stalk-root                  0\n",
       "stalk-surface-above-ring    0\n",
       "stalk-surface-below-ring    0\n",
       "stalk-color-above-ring      0\n",
       "stalk-color-below-ring      0\n",
       "veil-type                   0\n",
       "veil-color                  0\n",
       "ring-number                 0\n",
       "ring-type                   0\n",
       "spore-print-color           0\n",
       "population                  0\n",
       "habitat                     0\n",
       "dtype: int64"
      ]
     },
     "execution_count": 4,
     "metadata": {},
     "output_type": "execute_result"
    }
   ],
   "source": [
    "# Cek kolom null\n",
    "mushrooms.isnull().sum()"
   ]
  },
  {
   "cell_type": "code",
   "execution_count": 5,
   "metadata": {},
   "outputs": [
    {
     "data": {
      "text/html": [
       "<div>\n",
       "<style scoped>\n",
       "    .dataframe tbody tr th:only-of-type {\n",
       "        vertical-align: middle;\n",
       "    }\n",
       "\n",
       "    .dataframe tbody tr th {\n",
       "        vertical-align: top;\n",
       "    }\n",
       "\n",
       "    .dataframe thead th {\n",
       "        text-align: right;\n",
       "    }\n",
       "</style>\n",
       "<table border=\"1\" class=\"dataframe\">\n",
       "  <thead>\n",
       "    <tr style=\"text-align: right;\">\n",
       "      <th></th>\n",
       "      <th>class</th>\n",
       "      <th>cap-shape</th>\n",
       "      <th>cap-surface</th>\n",
       "      <th>cap-color</th>\n",
       "      <th>bruises</th>\n",
       "      <th>odor</th>\n",
       "      <th>gill-attachment</th>\n",
       "      <th>gill-spacing</th>\n",
       "      <th>gill-size</th>\n",
       "      <th>gill-color</th>\n",
       "      <th>...</th>\n",
       "      <th>stalk-surface-below-ring</th>\n",
       "      <th>stalk-color-above-ring</th>\n",
       "      <th>stalk-color-below-ring</th>\n",
       "      <th>veil-type</th>\n",
       "      <th>veil-color</th>\n",
       "      <th>ring-number</th>\n",
       "      <th>ring-type</th>\n",
       "      <th>spore-print-color</th>\n",
       "      <th>population</th>\n",
       "      <th>habitat</th>\n",
       "    </tr>\n",
       "  </thead>\n",
       "  <tbody>\n",
       "    <tr>\n",
       "      <th>0</th>\n",
       "      <td>1</td>\n",
       "      <td>5</td>\n",
       "      <td>2</td>\n",
       "      <td>4</td>\n",
       "      <td>1</td>\n",
       "      <td>6</td>\n",
       "      <td>1</td>\n",
       "      <td>0</td>\n",
       "      <td>1</td>\n",
       "      <td>4</td>\n",
       "      <td>...</td>\n",
       "      <td>2</td>\n",
       "      <td>7</td>\n",
       "      <td>7</td>\n",
       "      <td>0</td>\n",
       "      <td>2</td>\n",
       "      <td>1</td>\n",
       "      <td>4</td>\n",
       "      <td>2</td>\n",
       "      <td>3</td>\n",
       "      <td>5</td>\n",
       "    </tr>\n",
       "    <tr>\n",
       "      <th>1</th>\n",
       "      <td>0</td>\n",
       "      <td>5</td>\n",
       "      <td>2</td>\n",
       "      <td>9</td>\n",
       "      <td>1</td>\n",
       "      <td>0</td>\n",
       "      <td>1</td>\n",
       "      <td>0</td>\n",
       "      <td>0</td>\n",
       "      <td>4</td>\n",
       "      <td>...</td>\n",
       "      <td>2</td>\n",
       "      <td>7</td>\n",
       "      <td>7</td>\n",
       "      <td>0</td>\n",
       "      <td>2</td>\n",
       "      <td>1</td>\n",
       "      <td>4</td>\n",
       "      <td>3</td>\n",
       "      <td>2</td>\n",
       "      <td>1</td>\n",
       "    </tr>\n",
       "    <tr>\n",
       "      <th>2</th>\n",
       "      <td>0</td>\n",
       "      <td>0</td>\n",
       "      <td>2</td>\n",
       "      <td>8</td>\n",
       "      <td>1</td>\n",
       "      <td>3</td>\n",
       "      <td>1</td>\n",
       "      <td>0</td>\n",
       "      <td>0</td>\n",
       "      <td>5</td>\n",
       "      <td>...</td>\n",
       "      <td>2</td>\n",
       "      <td>7</td>\n",
       "      <td>7</td>\n",
       "      <td>0</td>\n",
       "      <td>2</td>\n",
       "      <td>1</td>\n",
       "      <td>4</td>\n",
       "      <td>3</td>\n",
       "      <td>2</td>\n",
       "      <td>3</td>\n",
       "    </tr>\n",
       "    <tr>\n",
       "      <th>3</th>\n",
       "      <td>1</td>\n",
       "      <td>5</td>\n",
       "      <td>3</td>\n",
       "      <td>8</td>\n",
       "      <td>1</td>\n",
       "      <td>6</td>\n",
       "      <td>1</td>\n",
       "      <td>0</td>\n",
       "      <td>1</td>\n",
       "      <td>5</td>\n",
       "      <td>...</td>\n",
       "      <td>2</td>\n",
       "      <td>7</td>\n",
       "      <td>7</td>\n",
       "      <td>0</td>\n",
       "      <td>2</td>\n",
       "      <td>1</td>\n",
       "      <td>4</td>\n",
       "      <td>2</td>\n",
       "      <td>3</td>\n",
       "      <td>5</td>\n",
       "    </tr>\n",
       "    <tr>\n",
       "      <th>4</th>\n",
       "      <td>0</td>\n",
       "      <td>5</td>\n",
       "      <td>2</td>\n",
       "      <td>3</td>\n",
       "      <td>0</td>\n",
       "      <td>5</td>\n",
       "      <td>1</td>\n",
       "      <td>1</td>\n",
       "      <td>0</td>\n",
       "      <td>4</td>\n",
       "      <td>...</td>\n",
       "      <td>2</td>\n",
       "      <td>7</td>\n",
       "      <td>7</td>\n",
       "      <td>0</td>\n",
       "      <td>2</td>\n",
       "      <td>1</td>\n",
       "      <td>0</td>\n",
       "      <td>3</td>\n",
       "      <td>0</td>\n",
       "      <td>1</td>\n",
       "    </tr>\n",
       "  </tbody>\n",
       "</table>\n",
       "<p>5 rows × 23 columns</p>\n",
       "</div>"
      ],
      "text/plain": [
       "   class  cap-shape  cap-surface  cap-color  bruises  odor  gill-attachment  \\\n",
       "0      1          5            2          4        1     6                1   \n",
       "1      0          5            2          9        1     0                1   \n",
       "2      0          0            2          8        1     3                1   \n",
       "3      1          5            3          8        1     6                1   \n",
       "4      0          5            2          3        0     5                1   \n",
       "\n",
       "   gill-spacing  gill-size  gill-color  ...  stalk-surface-below-ring  \\\n",
       "0             0          1           4  ...                         2   \n",
       "1             0          0           4  ...                         2   \n",
       "2             0          0           5  ...                         2   \n",
       "3             0          1           5  ...                         2   \n",
       "4             1          0           4  ...                         2   \n",
       "\n",
       "   stalk-color-above-ring  stalk-color-below-ring  veil-type  veil-color  \\\n",
       "0                       7                       7          0           2   \n",
       "1                       7                       7          0           2   \n",
       "2                       7                       7          0           2   \n",
       "3                       7                       7          0           2   \n",
       "4                       7                       7          0           2   \n",
       "\n",
       "   ring-number  ring-type  spore-print-color  population  habitat  \n",
       "0            1          4                  2           3        5  \n",
       "1            1          4                  3           2        1  \n",
       "2            1          4                  3           2        3  \n",
       "3            1          4                  2           3        5  \n",
       "4            1          0                  3           0        1  \n",
       "\n",
       "[5 rows x 23 columns]"
      ]
     },
     "execution_count": 5,
     "metadata": {},
     "output_type": "execute_result"
    }
   ],
   "source": [
    "from sklearn import preprocessing\n",
    "mle = preprocessing.LabelEncoder()\n",
    "for col in mushrooms.columns:\n",
    "    mushrooms[col] = mle.fit_transform(mushrooms[col])\n",
    "mushrooms.head()"
   ]
  },
  {
   "cell_type": "code",
   "execution_count": 6,
   "metadata": {},
   "outputs": [
    {
     "name": "stdout",
     "output_type": "stream",
     "text": [
      "[[5 2 4 ... 2 3 5]\n",
      " [5 2 9 ... 3 2 1]\n",
      " [0 2 8 ... 3 2 3]\n",
      " ...\n",
      " [2 2 4 ... 0 1 2]\n",
      " [3 3 4 ... 7 4 2]\n",
      " [5 2 4 ... 4 1 2]]\n",
      "[[1]\n",
      " [0]\n",
      " [0]\n",
      " ...\n",
      " [0]\n",
      " [1]\n",
      " [0]]\n"
     ]
    }
   ],
   "source": [
    "# slice data\n",
    "xm = mushrooms.iloc[:,1:23].values\n",
    "print(xm)\n",
    "ym = mushrooms.iloc[:,0].values\n",
    "ym = ym.reshape(len(ym), 1)\n",
    "print(ym)"
   ]
  },
  {
   "cell_type": "markdown",
   "metadata": {},
   "source": [
    "### Decision Tree"
   ]
  },
  {
   "cell_type": "code",
   "execution_count": 7,
   "metadata": {},
   "outputs": [],
   "source": [
    "xm_train, xm_test, ym_train, ym_test = train_test_split(xm, ym, test_size=0.2, random_state=1)\n",
    "dtm = DecisionTreeClassifier(max_depth=6, random_state=1)"
   ]
  },
  {
   "cell_type": "code",
   "execution_count": 8,
   "metadata": {},
   "outputs": [
    {
     "data": {
      "image/png": "[encoded data removed]",
      "text/plain": [
       "<Figure size 1440x1080 with 1 Axes>"
      ]
     },
     "metadata": {
      "needs_background": "light"
     },
     "output_type": "display_data"
    }
   ],
   "source": [
    "from sklearn import tree\n",
    "import matplotlib.pyplot as plt\n",
    "plt.figure(figsize=(20,15))\n",
    "tree.plot_tree(dtm.fit(xm_train, ym_train), fontsize=8)\n",
    "plt.show()"
   ]
  },
  {
   "cell_type": "code",
   "execution_count": 9,
   "metadata": {},
   "outputs": [
    {
     "data": {
      "image/svg+xml": "<?xml version=\"1.0\" encoding=\"UTF-8\" standalone=\"no\"?>\n<!DOCTYPE svg PUBLIC \"-//W3C//DTD SVG 1.1//EN\"\n \"http://www.w3.org/Graphics/SVG/1.1/DTD/svg11.dtd\">\n<!-- Generated by graphviz version 2.50.0 (0)\n -->\n<!-- Title: Tree Pages: 1 -->\n<svg width=\"1290pt\" height=\"760pt\"\n viewBox=\"0.00 0.00 1290.00 760.00\" xmlns=\"http://www.w3.org/2000/svg\" xmlns:xlink=\"http://www.w3.org/1999/xlink\">\n<g id=\"graph0\" class=\"graph\" transform=\"scale(1 1) rotate(0) translate(4 756)\">\n<title>Tree</title>\n<polygon fill=\"white\" stroke=\"transparent\" points=\"-4,4 -4,-756 1286,-756 1286,4 -4,4\"/>\n<!-- 0 -->\n<g id=\"node1\" class=\"node\">\n<title>0</title>\n<path fill=\"#fdf5ef\" stroke=\"black\" d=\"M556,-752C556,-752 442,-752 442,-752 436,-752 430,-746 430,-740 430,-740 430,-686 430,-686 430,-680 436,-674 442,-674 442,-674 556,-674 556,-674 562,-674 568,-680 568,-686 568,-686 568,-740 568,-740 568,-746 562,-752 556,-752\"/>\n<text text-anchor=\"start\" x=\"473.5\" y=\"-737.8\" font-family=\"Helvetica,sans-Serif\" font-size=\"14.00\">X</text>\n<text text-anchor=\"start\" x=\"483.5\" y=\"-737.8\" font-family=\"Helvetica,sans-Serif\" baseline-shift=\"sub\" font-size=\"14.00\">8</text>\n<text text-anchor=\"start\" x=\"490.5\" y=\"-737.8\" font-family=\"Helvetica,sans-Serif\" font-size=\"14.00\"> ≤ 3.5</text>\n<text text-anchor=\"start\" x=\"463.5\" y=\"-723.8\" font-family=\"Helvetica,sans-Serif\" font-size=\"14.00\">gini = 0.499</text>\n<text text-anchor=\"start\" x=\"450.5\" y=\"-709.8\" font-family=\"Helvetica,sans-Serif\" font-size=\"14.00\">samples = 6499</text>\n<text text-anchor=\"start\" x=\"438\" y=\"-695.8\" font-family=\"Helvetica,sans-Serif\" font-size=\"14.00\">value = [3388, 3111]</text>\n<text text-anchor=\"start\" x=\"455\" y=\"-681.8\" font-family=\"Helvetica,sans-Serif\" font-size=\"14.00\">class = Poison</text>\n</g>\n<!-- 1 -->\n<g id=\"node2\" class=\"node\">\n<title>1</title>\n<path fill=\"#61b1ea\" stroke=\"black\" d=\"M425,-638C425,-638 317,-638 317,-638 311,-638 305,-632 305,-626 305,-626 305,-572 305,-572 305,-566 311,-560 317,-560 317,-560 425,-560 425,-560 431,-560 437,-566 437,-572 437,-572 437,-626 437,-626 437,-632 431,-638 425,-638\"/>\n<text text-anchor=\"start\" x=\"342\" y=\"-623.8\" font-family=\"Helvetica,sans-Serif\" font-size=\"14.00\">X</text>\n<text text-anchor=\"start\" x=\"352\" y=\"-623.8\" font-family=\"Helvetica,sans-Serif\" baseline-shift=\"sub\" font-size=\"14.00\">20</text>\n<text text-anchor=\"start\" x=\"366\" y=\"-623.8\" font-family=\"Helvetica,sans-Serif\" font-size=\"14.00\"> ≤ 3.5</text>\n<text text-anchor=\"start\" x=\"335.5\" y=\"-609.8\" font-family=\"Helvetica,sans-Serif\" font-size=\"14.00\">gini = 0.278</text>\n<text text-anchor=\"start\" x=\"322.5\" y=\"-595.8\" font-family=\"Helvetica,sans-Serif\" font-size=\"14.00\">samples = 2628</text>\n<text text-anchor=\"start\" x=\"313\" y=\"-581.8\" font-family=\"Helvetica,sans-Serif\" font-size=\"14.00\">value = [439, 2189]</text>\n<text text-anchor=\"start\" x=\"328.5\" y=\"-567.8\" font-family=\"Helvetica,sans-Serif\" font-size=\"14.00\">class = Edible</text>\n</g>\n<!-- 0&#45;&gt;1 -->\n<g id=\"edge1\" class=\"edge\">\n<title>0&#45;&gt;1</title>\n<path fill=\"none\" stroke=\"black\" d=\"M455.31,-673.77C444.6,-664.4 433.04,-654.29 422.02,-644.64\"/>\n<polygon fill=\"black\" stroke=\"black\" points=\"424.33,-642.01 414.5,-638.06 419.72,-647.28 424.33,-642.01\"/>\n<text text-anchor=\"middle\" x=\"416.16\" y=\"-659.3\" font-family=\"Helvetica,sans-Serif\" font-size=\"14.00\">True</text>\n</g>\n<!-- 14 -->\n<g id=\"node15\" class=\"node\">\n<title>14</title>\n<path fill=\"#eda877\" stroke=\"black\" d=\"M686,-638C686,-638 578,-638 578,-638 572,-638 566,-632 566,-626 566,-626 566,-572 566,-572 566,-566 572,-560 578,-560 578,-560 686,-560 686,-560 692,-560 698,-566 698,-572 698,-572 698,-626 698,-626 698,-632 692,-638 686,-638\"/>\n<text text-anchor=\"start\" x=\"603\" y=\"-623.8\" font-family=\"Helvetica,sans-Serif\" font-size=\"14.00\">X</text>\n<text text-anchor=\"start\" x=\"613\" y=\"-623.8\" font-family=\"Helvetica,sans-Serif\" baseline-shift=\"sub\" font-size=\"14.00\">19</text>\n<text text-anchor=\"start\" x=\"627\" y=\"-623.8\" font-family=\"Helvetica,sans-Serif\" font-size=\"14.00\"> ≤ 1.5</text>\n<text text-anchor=\"start\" x=\"596.5\" y=\"-609.8\" font-family=\"Helvetica,sans-Serif\" font-size=\"14.00\">gini = 0.363</text>\n<text text-anchor=\"start\" x=\"583.5\" y=\"-595.8\" font-family=\"Helvetica,sans-Serif\" font-size=\"14.00\">samples = 3871</text>\n<text text-anchor=\"start\" x=\"574\" y=\"-581.8\" font-family=\"Helvetica,sans-Serif\" font-size=\"14.00\">value = [2949, 922]</text>\n<text text-anchor=\"start\" x=\"588\" y=\"-567.8\" font-family=\"Helvetica,sans-Serif\" font-size=\"14.00\">class = Poison</text>\n</g>\n<!-- 0&#45;&gt;14 -->\n<g id=\"edge14\" class=\"edge\">\n<title>0&#45;&gt;14</title>\n<path fill=\"none\" stroke=\"black\" d=\"M544.4,-673.77C555.53,-664.4 567.53,-654.29 578.98,-644.64\"/>\n<polygon fill=\"black\" stroke=\"black\" points=\"581.41,-647.18 586.81,-638.06 576.9,-641.82 581.41,-647.18\"/>\n<text text-anchor=\"middle\" x=\"584.67\" y=\"-659.27\" font-family=\"Helvetica,sans-Serif\" font-size=\"14.00\">False</text>\n</g>\n<!-- 2 -->\n<g id=\"node3\" class=\"node\">\n<title>2</title>\n<path fill=\"#e99356\" stroke=\"black\" d=\"M225.5,-524C225.5,-524 132.5,-524 132.5,-524 126.5,-524 120.5,-518 120.5,-512 120.5,-512 120.5,-458 120.5,-458 120.5,-452 126.5,-446 132.5,-446 132.5,-446 225.5,-446 225.5,-446 231.5,-446 237.5,-452 237.5,-458 237.5,-458 237.5,-512 237.5,-512 237.5,-518 231.5,-524 225.5,-524\"/>\n<text text-anchor=\"start\" x=\"150\" y=\"-509.8\" font-family=\"Helvetica,sans-Serif\" font-size=\"14.00\">X</text>\n<text text-anchor=\"start\" x=\"160\" y=\"-509.8\" font-family=\"Helvetica,sans-Serif\" baseline-shift=\"sub\" font-size=\"14.00\">19</text>\n<text text-anchor=\"start\" x=\"174\" y=\"-509.8\" font-family=\"Helvetica,sans-Serif\" font-size=\"14.00\"> ≤ 1.5</text>\n<text text-anchor=\"start\" x=\"147\" y=\"-495.8\" font-family=\"Helvetica,sans-Serif\" font-size=\"14.00\">gini = 0.22</text>\n<text text-anchor=\"start\" x=\"134\" y=\"-481.8\" font-family=\"Helvetica,sans-Serif\" font-size=\"14.00\">samples = 468</text>\n<text text-anchor=\"start\" x=\"128.5\" y=\"-467.8\" font-family=\"Helvetica,sans-Serif\" font-size=\"14.00\">value = [409, 59]</text>\n<text text-anchor=\"start\" x=\"135\" y=\"-453.8\" font-family=\"Helvetica,sans-Serif\" font-size=\"14.00\">class = Poison</text>\n</g>\n<!-- 1&#45;&gt;2 -->\n<g id=\"edge2\" class=\"edge\">\n<title>1&#45;&gt;2</title>\n<path fill=\"none\" stroke=\"black\" d=\"M305.73,-559.93C286.59,-548.76 265.63,-536.54 246.37,-525.3\"/>\n<polygon fill=\"black\" stroke=\"black\" points=\"248.05,-522.23 237.65,-520.21 244.52,-528.27 248.05,-522.23\"/>\n</g>\n<!-- 7 -->\n<g id=\"node8\" class=\"node\">\n<title>7</title>\n<path fill=\"#3c9ee5\" stroke=\"black\" d=\"M421.5,-524C421.5,-524 320.5,-524 320.5,-524 314.5,-524 308.5,-518 308.5,-512 308.5,-512 308.5,-458 308.5,-458 308.5,-452 314.5,-446 320.5,-446 320.5,-446 421.5,-446 421.5,-446 427.5,-446 433.5,-452 433.5,-458 433.5,-458 433.5,-512 433.5,-512 433.5,-518 427.5,-524 421.5,-524\"/>\n<text text-anchor=\"start\" x=\"342\" y=\"-509.8\" font-family=\"Helvetica,sans-Serif\" font-size=\"14.00\">X</text>\n<text text-anchor=\"start\" x=\"352\" y=\"-509.8\" font-family=\"Helvetica,sans-Serif\" baseline-shift=\"sub\" font-size=\"14.00\">10</text>\n<text text-anchor=\"start\" x=\"366\" y=\"-509.8\" font-family=\"Helvetica,sans-Serif\" font-size=\"14.00\"> ≤ 2.0</text>\n<text text-anchor=\"start\" x=\"335.5\" y=\"-495.8\" font-family=\"Helvetica,sans-Serif\" font-size=\"14.00\">gini = 0.027</text>\n<text text-anchor=\"start\" x=\"322.5\" y=\"-481.8\" font-family=\"Helvetica,sans-Serif\" font-size=\"14.00\">samples = 2160</text>\n<text text-anchor=\"start\" x=\"316.5\" y=\"-467.8\" font-family=\"Helvetica,sans-Serif\" font-size=\"14.00\">value = [30, 2130]</text>\n<text text-anchor=\"start\" x=\"328.5\" y=\"-453.8\" font-family=\"Helvetica,sans-Serif\" font-size=\"14.00\">class = Edible</text>\n</g>\n<!-- 1&#45;&gt;7 -->\n<g id=\"edge7\" class=\"edge\">\n<title>1&#45;&gt;7</title>\n<path fill=\"none\" stroke=\"black\" d=\"M371,-559.77C371,-551.57 371,-542.8 371,-534.28\"/>\n<polygon fill=\"black\" stroke=\"black\" points=\"374.5,-534.06 371,-524.06 367.5,-534.06 374.5,-534.06\"/>\n</g>\n<!-- 3 -->\n<g id=\"node4\" class=\"node\">\n<title>3</title>\n<path fill=\"#399de5\" stroke=\"black\" d=\"M90,-405C90,-405 12,-405 12,-405 6,-405 0,-399 0,-393 0,-393 0,-349 0,-349 0,-343 6,-337 12,-337 12,-337 90,-337 90,-337 96,-337 102,-343 102,-349 102,-349 102,-393 102,-393 102,-399 96,-405 90,-405\"/>\n<text text-anchor=\"start\" x=\"23\" y=\"-389.8\" font-family=\"Helvetica,sans-Serif\" font-size=\"14.00\">gini = 0.0</text>\n<text text-anchor=\"start\" x=\"10\" y=\"-374.8\" font-family=\"Helvetica,sans-Serif\" font-size=\"14.00\">samples = 41</text>\n<text text-anchor=\"start\" x=\"8\" y=\"-359.8\" font-family=\"Helvetica,sans-Serif\" font-size=\"14.00\">value = [0, 41]</text>\n<text text-anchor=\"start\" x=\"8.5\" y=\"-344.8\" font-family=\"Helvetica,sans-Serif\" font-size=\"14.00\">class = Edible</text>\n</g>\n<!-- 2&#45;&gt;3 -->\n<g id=\"edge3\" class=\"edge\">\n<title>2&#45;&gt;3</title>\n<path fill=\"none\" stroke=\"black\" d=\"M135.31,-445.77C122.83,-434.85 109.21,-422.93 96.62,-411.92\"/>\n<polygon fill=\"black\" stroke=\"black\" points=\"98.77,-409.15 88.94,-405.2 94.16,-414.42 98.77,-409.15\"/>\n</g>\n<!-- 4 -->\n<g id=\"node5\" class=\"node\">\n<title>4</title>\n<path fill=\"#e68742\" stroke=\"black\" d=\"M225.5,-410C225.5,-410 132.5,-410 132.5,-410 126.5,-410 120.5,-404 120.5,-398 120.5,-398 120.5,-344 120.5,-344 120.5,-338 126.5,-332 132.5,-332 132.5,-332 225.5,-332 225.5,-332 231.5,-332 237.5,-338 237.5,-344 237.5,-344 237.5,-398 237.5,-398 237.5,-404 231.5,-410 225.5,-410\"/>\n<text text-anchor=\"start\" x=\"153.5\" y=\"-395.8\" font-family=\"Helvetica,sans-Serif\" font-size=\"14.00\">X</text>\n<text text-anchor=\"start\" x=\"163.5\" y=\"-395.8\" font-family=\"Helvetica,sans-Serif\" baseline-shift=\"sub\" font-size=\"14.00\">7</text>\n<text text-anchor=\"start\" x=\"170.5\" y=\"-395.8\" font-family=\"Helvetica,sans-Serif\" font-size=\"14.00\"> ≤ 0.5</text>\n<text text-anchor=\"start\" x=\"143.5\" y=\"-381.8\" font-family=\"Helvetica,sans-Serif\" font-size=\"14.00\">gini = 0.081</text>\n<text text-anchor=\"start\" x=\"134\" y=\"-367.8\" font-family=\"Helvetica,sans-Serif\" font-size=\"14.00\">samples = 427</text>\n<text text-anchor=\"start\" x=\"128.5\" y=\"-353.8\" font-family=\"Helvetica,sans-Serif\" font-size=\"14.00\">value = [409, 18]</text>\n<text text-anchor=\"start\" x=\"135\" y=\"-339.8\" font-family=\"Helvetica,sans-Serif\" font-size=\"14.00\">class = Poison</text>\n</g>\n<!-- 2&#45;&gt;4 -->\n<g id=\"edge4\" class=\"edge\">\n<title>2&#45;&gt;4</title>\n<path fill=\"none\" stroke=\"black\" d=\"M179,-445.77C179,-437.57 179,-428.8 179,-420.28\"/>\n<polygon fill=\"black\" stroke=\"black\" points=\"182.5,-420.06 179,-410.06 175.5,-420.06 182.5,-420.06\"/>\n</g>\n<!-- 5 -->\n<g id=\"node6\" class=\"node\">\n<title>5</title>\n<path fill=\"#e58139\" stroke=\"black\" d=\"M102,-291C102,-291 16,-291 16,-291 10,-291 4,-285 4,-279 4,-279 4,-235 4,-235 4,-229 10,-223 16,-223 16,-223 102,-223 102,-223 108,-223 114,-229 114,-235 114,-235 114,-279 114,-279 114,-285 108,-291 102,-291\"/>\n<text text-anchor=\"start\" x=\"31\" y=\"-275.8\" font-family=\"Helvetica,sans-Serif\" font-size=\"14.00\">gini = 0.0</text>\n<text text-anchor=\"start\" x=\"14\" y=\"-260.8\" font-family=\"Helvetica,sans-Serif\" font-size=\"14.00\">samples = 409</text>\n<text text-anchor=\"start\" x=\"12\" y=\"-245.8\" font-family=\"Helvetica,sans-Serif\" font-size=\"14.00\">value = [409, 0]</text>\n<text text-anchor=\"start\" x=\"15\" y=\"-230.8\" font-family=\"Helvetica,sans-Serif\" font-size=\"14.00\">class = Poison</text>\n</g>\n<!-- 4&#45;&gt;5 -->\n<g id=\"edge5\" class=\"edge\">\n<title>4&#45;&gt;5</title>\n<path fill=\"none\" stroke=\"black\" d=\"M138.04,-331.77C126.45,-320.96 113.81,-309.16 102.11,-298.23\"/>\n<polygon fill=\"black\" stroke=\"black\" points=\"104.27,-295.46 94.57,-291.2 99.49,-300.58 104.27,-295.46\"/>\n</g>\n<!-- 6 -->\n<g id=\"node7\" class=\"node\">\n<title>6</title>\n<path fill=\"#399de5\" stroke=\"black\" d=\"M222,-291C222,-291 144,-291 144,-291 138,-291 132,-285 132,-279 132,-279 132,-235 132,-235 132,-229 138,-223 144,-223 144,-223 222,-223 222,-223 228,-223 234,-229 234,-235 234,-235 234,-279 234,-279 234,-285 228,-291 222,-291\"/>\n<text text-anchor=\"start\" x=\"155\" y=\"-275.8\" font-family=\"Helvetica,sans-Serif\" font-size=\"14.00\">gini = 0.0</text>\n<text text-anchor=\"start\" x=\"142\" y=\"-260.8\" font-family=\"Helvetica,sans-Serif\" font-size=\"14.00\">samples = 18</text>\n<text text-anchor=\"start\" x=\"140\" y=\"-245.8\" font-family=\"Helvetica,sans-Serif\" font-size=\"14.00\">value = [0, 18]</text>\n<text text-anchor=\"start\" x=\"140.5\" y=\"-230.8\" font-family=\"Helvetica,sans-Serif\" font-size=\"14.00\">class = Edible</text>\n</g>\n<!-- 4&#45;&gt;6 -->\n<g id=\"edge6\" class=\"edge\">\n<title>4&#45;&gt;6</title>\n<path fill=\"none\" stroke=\"black\" d=\"M180.37,-331.77C180.71,-321.99 181.09,-311.4 181.45,-301.38\"/>\n<polygon fill=\"black\" stroke=\"black\" points=\"184.96,-301.31 181.81,-291.2 177.96,-301.07 184.96,-301.31\"/>\n</g>\n<!-- 8 -->\n<g id=\"node9\" class=\"node\">\n<title>8</title>\n<path fill=\"#3a9ee5\" stroke=\"black\" d=\"M368,-410C368,-410 268,-410 268,-410 262,-410 256,-404 256,-398 256,-398 256,-344 256,-344 256,-338 262,-332 268,-332 268,-332 368,-332 368,-332 374,-332 380,-338 380,-344 380,-344 380,-398 380,-398 380,-404 374,-410 368,-410\"/>\n<text text-anchor=\"start\" x=\"289\" y=\"-395.8\" font-family=\"Helvetica,sans-Serif\" font-size=\"14.00\">X</text>\n<text text-anchor=\"start\" x=\"299\" y=\"-395.8\" font-family=\"Helvetica,sans-Serif\" baseline-shift=\"sub\" font-size=\"14.00\">12</text>\n<text text-anchor=\"start\" x=\"313\" y=\"-395.8\" font-family=\"Helvetica,sans-Serif\" font-size=\"14.00\"> ≤ 0.5</text>\n<text text-anchor=\"start\" x=\"286\" y=\"-381.8\" font-family=\"Helvetica,sans-Serif\" font-size=\"14.00\">gini = 0.01</text>\n<text text-anchor=\"start\" x=\"269.5\" y=\"-367.8\" font-family=\"Helvetica,sans-Serif\" font-size=\"14.00\">samples = 2141</text>\n<text text-anchor=\"start\" x=\"264\" y=\"-353.8\" font-family=\"Helvetica,sans-Serif\" font-size=\"14.00\">value = [11, 2130]</text>\n<text text-anchor=\"start\" x=\"275.5\" y=\"-339.8\" font-family=\"Helvetica,sans-Serif\" font-size=\"14.00\">class = Edible</text>\n</g>\n<!-- 7&#45;&gt;8 -->\n<g id=\"edge8\" class=\"edge\">\n<title>7&#45;&gt;8</title>\n<path fill=\"none\" stroke=\"black\" d=\"M352.91,-445.77C348.86,-437.21 344.51,-428.03 340.32,-419.16\"/>\n<polygon fill=\"black\" stroke=\"black\" points=\"343.45,-417.6 336.01,-410.06 337.12,-420.59 343.45,-417.6\"/>\n</g>\n<!-- 13 -->\n<g id=\"node14\" class=\"node\">\n<title>13</title>\n<path fill=\"#e58139\" stroke=\"black\" d=\"M490,-405C490,-405 410,-405 410,-405 404,-405 398,-399 398,-393 398,-393 398,-349 398,-349 398,-343 404,-337 410,-337 410,-337 490,-337 490,-337 496,-337 502,-343 502,-349 502,-349 502,-393 502,-393 502,-399 496,-405 490,-405\"/>\n<text text-anchor=\"start\" x=\"422\" y=\"-389.8\" font-family=\"Helvetica,sans-Serif\" font-size=\"14.00\">gini = 0.0</text>\n<text text-anchor=\"start\" x=\"409\" y=\"-374.8\" font-family=\"Helvetica,sans-Serif\" font-size=\"14.00\">samples = 19</text>\n<text text-anchor=\"start\" x=\"407\" y=\"-359.8\" font-family=\"Helvetica,sans-Serif\" font-size=\"14.00\">value = [19, 0]</text>\n<text text-anchor=\"start\" x=\"406\" y=\"-344.8\" font-family=\"Helvetica,sans-Serif\" font-size=\"14.00\">class = Poison</text>\n</g>\n<!-- 7&#45;&gt;13 -->\n<g id=\"edge13\" class=\"edge\">\n<title>7&#45;&gt;13</title>\n<path fill=\"none\" stroke=\"black\" d=\"M397.97,-445.77C405.3,-435.37 413.28,-424.06 420.74,-413.48\"/>\n<polygon fill=\"black\" stroke=\"black\" points=\"423.68,-415.39 426.58,-405.2 417.96,-411.35 423.68,-415.39\"/>\n</g>\n<!-- 9 -->\n<g id=\"node10\" class=\"node\">\n<title>9</title>\n<path fill=\"#b2d9f5\" stroke=\"black\" d=\"M356.5,-296C356.5,-296 271.5,-296 271.5,-296 265.5,-296 259.5,-290 259.5,-284 259.5,-284 259.5,-230 259.5,-230 259.5,-224 265.5,-218 271.5,-218 271.5,-218 356.5,-218 356.5,-218 362.5,-218 368.5,-224 368.5,-230 368.5,-230 368.5,-284 368.5,-284 368.5,-290 362.5,-296 356.5,-296\"/>\n<text text-anchor=\"start\" x=\"285\" y=\"-281.8\" font-family=\"Helvetica,sans-Serif\" font-size=\"14.00\">X</text>\n<text text-anchor=\"start\" x=\"295\" y=\"-281.8\" font-family=\"Helvetica,sans-Serif\" baseline-shift=\"sub\" font-size=\"14.00\">21</text>\n<text text-anchor=\"start\" x=\"309\" y=\"-281.8\" font-family=\"Helvetica,sans-Serif\" font-size=\"14.00\"> ≤ 0.5</text>\n<text text-anchor=\"start\" x=\"278.5\" y=\"-267.8\" font-family=\"Helvetica,sans-Serif\" font-size=\"14.00\">gini = 0.471</text>\n<text text-anchor=\"start\" x=\"273\" y=\"-253.8\" font-family=\"Helvetica,sans-Serif\" font-size=\"14.00\">samples = 29</text>\n<text text-anchor=\"start\" x=\"267.5\" y=\"-239.8\" font-family=\"Helvetica,sans-Serif\" font-size=\"14.00\">value = [11, 18]</text>\n<text text-anchor=\"start\" x=\"271.5\" y=\"-225.8\" font-family=\"Helvetica,sans-Serif\" font-size=\"14.00\">class = Edible</text>\n</g>\n<!-- 8&#45;&gt;9 -->\n<g id=\"edge9\" class=\"edge\">\n<title>8&#45;&gt;9</title>\n<path fill=\"none\" stroke=\"black\" d=\"M316.63,-331.77C316.34,-323.57 316.03,-314.8 315.72,-306.28\"/>\n<polygon fill=\"black\" stroke=\"black\" points=\"319.21,-305.93 315.36,-296.06 312.22,-306.18 319.21,-305.93\"/>\n</g>\n<!-- 12 -->\n<g id=\"node13\" class=\"node\">\n<title>12</title>\n<path fill=\"#399de5\" stroke=\"black\" d=\"M491,-291C491,-291 399,-291 399,-291 393,-291 387,-285 387,-279 387,-279 387,-235 387,-235 387,-229 393,-223 399,-223 399,-223 491,-223 491,-223 497,-223 503,-229 503,-235 503,-235 503,-279 503,-279 503,-285 497,-291 491,-291\"/>\n<text text-anchor=\"start\" x=\"417\" y=\"-275.8\" font-family=\"Helvetica,sans-Serif\" font-size=\"14.00\">gini = 0.0</text>\n<text text-anchor=\"start\" x=\"396.5\" y=\"-260.8\" font-family=\"Helvetica,sans-Serif\" font-size=\"14.00\">samples = 2112</text>\n<text text-anchor=\"start\" x=\"395\" y=\"-245.8\" font-family=\"Helvetica,sans-Serif\" font-size=\"14.00\">value = [0, 2112]</text>\n<text text-anchor=\"start\" x=\"402.5\" y=\"-230.8\" font-family=\"Helvetica,sans-Serif\" font-size=\"14.00\">class = Edible</text>\n</g>\n<!-- 8&#45;&gt;12 -->\n<g id=\"edge12\" class=\"edge\">\n<title>8&#45;&gt;12</title>\n<path fill=\"none\" stroke=\"black\" d=\"M361.35,-331.77C373.73,-320.85 387.25,-308.93 399.73,-297.92\"/>\n<polygon fill=\"black\" stroke=\"black\" points=\"402.17,-300.44 407.36,-291.2 397.54,-295.19 402.17,-300.44\"/>\n</g>\n<!-- 10 -->\n<g id=\"node11\" class=\"node\">\n<title>10</title>\n<path fill=\"#e58139\" stroke=\"black\" d=\"M293,-177C293,-177 213,-177 213,-177 207,-177 201,-171 201,-165 201,-165 201,-121 201,-121 201,-115 207,-109 213,-109 213,-109 293,-109 293,-109 299,-109 305,-115 305,-121 305,-121 305,-165 305,-165 305,-171 299,-177 293,-177\"/>\n<text text-anchor=\"start\" x=\"225\" y=\"-161.8\" font-family=\"Helvetica,sans-Serif\" font-size=\"14.00\">gini = 0.0</text>\n<text text-anchor=\"start\" x=\"212\" y=\"-146.8\" font-family=\"Helvetica,sans-Serif\" font-size=\"14.00\">samples = 11</text>\n<text text-anchor=\"start\" x=\"210.5\" y=\"-131.8\" font-family=\"Helvetica,sans-Serif\" font-size=\"14.00\">value = [11, 0]</text>\n<text text-anchor=\"start\" x=\"209\" y=\"-116.8\" font-family=\"Helvetica,sans-Serif\" font-size=\"14.00\">class = Poison</text>\n</g>\n<!-- 9&#45;&gt;10 -->\n<g id=\"edge10\" class=\"edge\">\n<title>9&#45;&gt;10</title>\n<path fill=\"none\" stroke=\"black\" d=\"M293.18,-217.77C287.63,-207.57 281.6,-196.5 275.94,-186.11\"/>\n<polygon fill=\"black\" stroke=\"black\" points=\"278.94,-184.3 271.08,-177.2 272.79,-187.65 278.94,-184.3\"/>\n</g>\n<!-- 11 -->\n<g id=\"node12\" class=\"node\">\n<title>11</title>\n<path fill=\"#399de5\" stroke=\"black\" d=\"M413,-177C413,-177 335,-177 335,-177 329,-177 323,-171 323,-165 323,-165 323,-121 323,-121 323,-115 329,-109 335,-109 335,-109 413,-109 413,-109 419,-109 425,-115 425,-121 425,-121 425,-165 425,-165 425,-171 419,-177 413,-177\"/>\n<text text-anchor=\"start\" x=\"346\" y=\"-161.8\" font-family=\"Helvetica,sans-Serif\" font-size=\"14.00\">gini = 0.0</text>\n<text text-anchor=\"start\" x=\"333\" y=\"-146.8\" font-family=\"Helvetica,sans-Serif\" font-size=\"14.00\">samples = 18</text>\n<text text-anchor=\"start\" x=\"331\" y=\"-131.8\" font-family=\"Helvetica,sans-Serif\" font-size=\"14.00\">value = [0, 18]</text>\n<text text-anchor=\"start\" x=\"331.5\" y=\"-116.8\" font-family=\"Helvetica,sans-Serif\" font-size=\"14.00\">class = Edible</text>\n</g>\n<!-- 9&#45;&gt;11 -->\n<g id=\"edge11\" class=\"edge\">\n<title>9&#45;&gt;11</title>\n<path fill=\"none\" stroke=\"black\" d=\"M334.48,-217.77C339.94,-207.57 345.87,-196.5 351.44,-186.11\"/>\n<polygon fill=\"black\" stroke=\"black\" points=\"354.58,-187.66 356.22,-177.2 348.41,-184.36 354.58,-187.66\"/>\n</g>\n<!-- 15 -->\n<g id=\"node16\" class=\"node\">\n<title>15</title>\n<path fill=\"#55abe9\" stroke=\"black\" d=\"M678.5,-524C678.5,-524 585.5,-524 585.5,-524 579.5,-524 573.5,-518 573.5,-512 573.5,-512 573.5,-458 573.5,-458 573.5,-452 579.5,-446 585.5,-446 585.5,-446 678.5,-446 678.5,-446 684.5,-446 690.5,-452 690.5,-458 690.5,-458 690.5,-512 690.5,-512 690.5,-518 684.5,-524 678.5,-524\"/>\n<text text-anchor=\"start\" x=\"606.5\" y=\"-509.8\" font-family=\"Helvetica,sans-Serif\" font-size=\"14.00\">X</text>\n<text text-anchor=\"start\" x=\"616.5\" y=\"-509.8\" font-family=\"Helvetica,sans-Serif\" baseline-shift=\"sub\" font-size=\"14.00\">4</text>\n<text text-anchor=\"start\" x=\"623.5\" y=\"-509.8\" font-family=\"Helvetica,sans-Serif\" font-size=\"14.00\"> ≤ 3.5</text>\n<text text-anchor=\"start\" x=\"596.5\" y=\"-495.8\" font-family=\"Helvetica,sans-Serif\" font-size=\"14.00\">gini = 0.219</text>\n<text text-anchor=\"start\" x=\"587\" y=\"-481.8\" font-family=\"Helvetica,sans-Serif\" font-size=\"14.00\">samples = 568</text>\n<text text-anchor=\"start\" x=\"581.5\" y=\"-467.8\" font-family=\"Helvetica,sans-Serif\" font-size=\"14.00\">value = [71, 497]</text>\n<text text-anchor=\"start\" x=\"589.5\" y=\"-453.8\" font-family=\"Helvetica,sans-Serif\" font-size=\"14.00\">class = Edible</text>\n</g>\n<!-- 14&#45;&gt;15 -->\n<g id=\"edge15\" class=\"edge\">\n<title>14&#45;&gt;15</title>\n<path fill=\"none\" stroke=\"black\" d=\"M632,-559.77C632,-551.57 632,-542.8 632,-534.28\"/>\n<polygon fill=\"black\" stroke=\"black\" points=\"635.5,-534.06 632,-524.06 628.5,-534.06 635.5,-534.06\"/>\n</g>\n<!-- 18 -->\n<g id=\"node19\" class=\"node\">\n<title>18</title>\n<path fill=\"#e99456\" stroke=\"black\" d=\"M887,-524C887,-524 779,-524 779,-524 773,-524 767,-518 767,-512 767,-512 767,-458 767,-458 767,-452 773,-446 779,-446 779,-446 887,-446 887,-446 893,-446 899,-452 899,-458 899,-458 899,-512 899,-512 899,-518 893,-524 887,-524\"/>\n<text text-anchor=\"start\" x=\"807.5\" y=\"-509.8\" font-family=\"Helvetica,sans-Serif\" font-size=\"14.00\">X</text>\n<text text-anchor=\"start\" x=\"817.5\" y=\"-509.8\" font-family=\"Helvetica,sans-Serif\" baseline-shift=\"sub\" font-size=\"14.00\">7</text>\n<text text-anchor=\"start\" x=\"824.5\" y=\"-509.8\" font-family=\"Helvetica,sans-Serif\" font-size=\"14.00\"> ≤ 0.5</text>\n<text text-anchor=\"start\" x=\"797.5\" y=\"-495.8\" font-family=\"Helvetica,sans-Serif\" font-size=\"14.00\">gini = 0.224</text>\n<text text-anchor=\"start\" x=\"784.5\" y=\"-481.8\" font-family=\"Helvetica,sans-Serif\" font-size=\"14.00\">samples = 3303</text>\n<text text-anchor=\"start\" x=\"775\" y=\"-467.8\" font-family=\"Helvetica,sans-Serif\" font-size=\"14.00\">value = [2878, 425]</text>\n<text text-anchor=\"start\" x=\"789\" y=\"-453.8\" font-family=\"Helvetica,sans-Serif\" font-size=\"14.00\">class = Poison</text>\n</g>\n<!-- 14&#45;&gt;18 -->\n<g id=\"edge18\" class=\"edge\">\n<title>14&#45;&gt;18</title>\n<path fill=\"none\" stroke=\"black\" d=\"M698.09,-561.17C717.24,-550.5 738.29,-538.77 757.95,-527.82\"/>\n<polygon fill=\"black\" stroke=\"black\" points=\"759.84,-530.78 766.87,-522.85 756.43,-524.66 759.84,-530.78\"/>\n</g>\n<!-- 16 -->\n<g id=\"node17\" class=\"node\">\n<title>16</title>\n<path fill=\"#399de5\" stroke=\"black\" d=\"M618,-405C618,-405 532,-405 532,-405 526,-405 520,-399 520,-393 520,-393 520,-349 520,-349 520,-343 526,-337 532,-337 532,-337 618,-337 618,-337 624,-337 630,-343 630,-349 630,-349 630,-393 630,-393 630,-399 624,-405 618,-405\"/>\n<text text-anchor=\"start\" x=\"547\" y=\"-389.8\" font-family=\"Helvetica,sans-Serif\" font-size=\"14.00\">gini = 0.0</text>\n<text text-anchor=\"start\" x=\"530\" y=\"-374.8\" font-family=\"Helvetica,sans-Serif\" font-size=\"14.00\">samples = 497</text>\n<text text-anchor=\"start\" x=\"528\" y=\"-359.8\" font-family=\"Helvetica,sans-Serif\" font-size=\"14.00\">value = [0, 497]</text>\n<text text-anchor=\"start\" x=\"532.5\" y=\"-344.8\" font-family=\"Helvetica,sans-Serif\" font-size=\"14.00\">class = Edible</text>\n</g>\n<!-- 15&#45;&gt;16 -->\n<g id=\"edge16\" class=\"edge\">\n<title>15&#45;&gt;16</title>\n<path fill=\"none\" stroke=\"black\" d=\"M612.54,-445.77C607.35,-435.57 601.72,-424.5 596.43,-414.11\"/>\n<polygon fill=\"black\" stroke=\"black\" points=\"599.55,-412.52 591.89,-405.2 593.31,-415.7 599.55,-412.52\"/>\n</g>\n<!-- 17 -->\n<g id=\"node18\" class=\"node\">\n<title>17</title>\n<path fill=\"#e58139\" stroke=\"black\" d=\"M740,-405C740,-405 660,-405 660,-405 654,-405 648,-399 648,-393 648,-393 648,-349 648,-349 648,-343 654,-337 660,-337 660,-337 740,-337 740,-337 746,-337 752,-343 752,-349 752,-349 752,-393 752,-393 752,-399 746,-405 740,-405\"/>\n<text text-anchor=\"start\" x=\"672\" y=\"-389.8\" font-family=\"Helvetica,sans-Serif\" font-size=\"14.00\">gini = 0.0</text>\n<text text-anchor=\"start\" x=\"659\" y=\"-374.8\" font-family=\"Helvetica,sans-Serif\" font-size=\"14.00\">samples = 71</text>\n<text text-anchor=\"start\" x=\"657\" y=\"-359.8\" font-family=\"Helvetica,sans-Serif\" font-size=\"14.00\">value = [71, 0]</text>\n<text text-anchor=\"start\" x=\"656\" y=\"-344.8\" font-family=\"Helvetica,sans-Serif\" font-size=\"14.00\">class = Poison</text>\n</g>\n<!-- 15&#45;&gt;17 -->\n<g id=\"edge17\" class=\"edge\">\n<title>15&#45;&gt;17</title>\n<path fill=\"none\" stroke=\"black\" d=\"M655.21,-445.77C661.46,-435.47 668.26,-424.28 674.62,-413.8\"/>\n<polygon fill=\"black\" stroke=\"black\" points=\"677.65,-415.56 679.85,-405.2 671.66,-411.93 677.65,-415.56\"/>\n</g>\n<!-- 19 -->\n<g id=\"node20\" class=\"node\">\n<title>19</title>\n<path fill=\"#e6843e\" stroke=\"black\" d=\"M883.5,-410C883.5,-410 782.5,-410 782.5,-410 776.5,-410 770.5,-404 770.5,-398 770.5,-398 770.5,-344 770.5,-344 770.5,-338 776.5,-332 782.5,-332 782.5,-332 883.5,-332 883.5,-332 889.5,-332 895.5,-338 895.5,-344 895.5,-344 895.5,-398 895.5,-398 895.5,-404 889.5,-410 883.5,-410\"/>\n<text text-anchor=\"start\" x=\"804\" y=\"-395.8\" font-family=\"Helvetica,sans-Serif\" font-size=\"14.00\">X</text>\n<text text-anchor=\"start\" x=\"814\" y=\"-395.8\" font-family=\"Helvetica,sans-Serif\" baseline-shift=\"sub\" font-size=\"14.00\">14</text>\n<text text-anchor=\"start\" x=\"828\" y=\"-395.8\" font-family=\"Helvetica,sans-Serif\" font-size=\"14.00\"> ≤ 1.5</text>\n<text text-anchor=\"start\" x=\"797.5\" y=\"-381.8\" font-family=\"Helvetica,sans-Serif\" font-size=\"14.00\">gini = 0.048</text>\n<text text-anchor=\"start\" x=\"784.5\" y=\"-367.8\" font-family=\"Helvetica,sans-Serif\" font-size=\"14.00\">samples = 2761</text>\n<text text-anchor=\"start\" x=\"778.5\" y=\"-353.8\" font-family=\"Helvetica,sans-Serif\" font-size=\"14.00\">value = [2693, 68]</text>\n<text text-anchor=\"start\" x=\"789\" y=\"-339.8\" font-family=\"Helvetica,sans-Serif\" font-size=\"14.00\">class = Poison</text>\n</g>\n<!-- 18&#45;&gt;19 -->\n<g id=\"edge19\" class=\"edge\">\n<title>18&#45;&gt;19</title>\n<path fill=\"none\" stroke=\"black\" d=\"M833,-445.77C833,-437.57 833,-428.8 833,-420.28\"/>\n<polygon fill=\"black\" stroke=\"black\" points=\"836.5,-420.06 833,-410.06 829.5,-420.06 836.5,-420.06\"/>\n</g>\n<!-- 28 -->\n<g id=\"node29\" class=\"node\">\n<title>28</title>\n<path fill=\"#a0d0f2\" stroke=\"black\" d=\"M1026.5,-410C1026.5,-410 925.5,-410 925.5,-410 919.5,-410 913.5,-404 913.5,-398 913.5,-398 913.5,-344 913.5,-344 913.5,-338 919.5,-332 925.5,-332 925.5,-332 1026.5,-332 1026.5,-332 1032.5,-332 1038.5,-338 1038.5,-344 1038.5,-344 1038.5,-398 1038.5,-398 1038.5,-404 1032.5,-410 1026.5,-410\"/>\n<text text-anchor=\"start\" x=\"950.5\" y=\"-395.8\" font-family=\"Helvetica,sans-Serif\" font-size=\"14.00\">X</text>\n<text text-anchor=\"start\" x=\"960.5\" y=\"-395.8\" font-family=\"Helvetica,sans-Serif\" baseline-shift=\"sub\" font-size=\"14.00\">9</text>\n<text text-anchor=\"start\" x=\"967.5\" y=\"-395.8\" font-family=\"Helvetica,sans-Serif\" font-size=\"14.00\"> ≤ 0.5</text>\n<text text-anchor=\"start\" x=\"944\" y=\"-381.8\" font-family=\"Helvetica,sans-Serif\" font-size=\"14.00\">gini = 0.45</text>\n<text text-anchor=\"start\" x=\"931\" y=\"-367.8\" font-family=\"Helvetica,sans-Serif\" font-size=\"14.00\">samples = 542</text>\n<text text-anchor=\"start\" x=\"921.5\" y=\"-353.8\" font-family=\"Helvetica,sans-Serif\" font-size=\"14.00\">value = [185, 357]</text>\n<text text-anchor=\"start\" x=\"933.5\" y=\"-339.8\" font-family=\"Helvetica,sans-Serif\" font-size=\"14.00\">class = Edible</text>\n</g>\n<!-- 18&#45;&gt;28 -->\n<g id=\"edge28\" class=\"edge\">\n<title>18&#45;&gt;28</title>\n<path fill=\"none\" stroke=\"black\" d=\"M881.81,-445.77C893.89,-436.31 906.94,-426.09 919.35,-416.37\"/>\n<polygon fill=\"black\" stroke=\"black\" points=\"921.69,-418.98 927.41,-410.06 917.38,-413.47 921.69,-418.98\"/>\n</g>\n<!-- 20 -->\n<g id=\"node21\" class=\"node\">\n<title>20</title>\n<path fill=\"#399de5\" stroke=\"black\" d=\"M741,-291C741,-291 663,-291 663,-291 657,-291 651,-285 651,-279 651,-279 651,-235 651,-235 651,-229 657,-223 663,-223 663,-223 741,-223 741,-223 747,-223 753,-229 753,-235 753,-235 753,-279 753,-279 753,-285 747,-291 741,-291\"/>\n<text text-anchor=\"start\" x=\"674\" y=\"-275.8\" font-family=\"Helvetica,sans-Serif\" font-size=\"14.00\">gini = 0.0</text>\n<text text-anchor=\"start\" x=\"661\" y=\"-260.8\" font-family=\"Helvetica,sans-Serif\" font-size=\"14.00\">samples = 30</text>\n<text text-anchor=\"start\" x=\"659\" y=\"-245.8\" font-family=\"Helvetica,sans-Serif\" font-size=\"14.00\">value = [0, 30]</text>\n<text text-anchor=\"start\" x=\"659.5\" y=\"-230.8\" font-family=\"Helvetica,sans-Serif\" font-size=\"14.00\">class = Edible</text>\n</g>\n<!-- 19&#45;&gt;20 -->\n<g id=\"edge20\" class=\"edge\">\n<title>19&#45;&gt;20</title>\n<path fill=\"none\" stroke=\"black\" d=\"M788.28,-331.77C775.52,-320.85 761.57,-308.93 748.69,-297.92\"/>\n<polygon fill=\"black\" stroke=\"black\" points=\"750.7,-295.03 740.83,-291.2 746.15,-300.36 750.7,-295.03\"/>\n</g>\n<!-- 21 -->\n<g id=\"node22\" class=\"node\">\n<title>21</title>\n<path fill=\"#e5833c\" stroke=\"black\" d=\"M884.5,-296C884.5,-296 783.5,-296 783.5,-296 777.5,-296 771.5,-290 771.5,-284 771.5,-284 771.5,-230 771.5,-230 771.5,-224 777.5,-218 783.5,-218 783.5,-218 884.5,-218 884.5,-218 890.5,-218 896.5,-224 896.5,-230 896.5,-230 896.5,-284 896.5,-284 896.5,-290 890.5,-296 884.5,-296\"/>\n<text text-anchor=\"start\" x=\"808.5\" y=\"-281.8\" font-family=\"Helvetica,sans-Serif\" font-size=\"14.00\">X</text>\n<text text-anchor=\"start\" x=\"818.5\" y=\"-281.8\" font-family=\"Helvetica,sans-Serif\" baseline-shift=\"sub\" font-size=\"14.00\">2</text>\n<text text-anchor=\"start\" x=\"825.5\" y=\"-281.8\" font-family=\"Helvetica,sans-Serif\" font-size=\"14.00\"> ≤ 0.5</text>\n<text text-anchor=\"start\" x=\"798.5\" y=\"-267.8\" font-family=\"Helvetica,sans-Serif\" font-size=\"14.00\">gini = 0.027</text>\n<text text-anchor=\"start\" x=\"785.5\" y=\"-253.8\" font-family=\"Helvetica,sans-Serif\" font-size=\"14.00\">samples = 2731</text>\n<text text-anchor=\"start\" x=\"779.5\" y=\"-239.8\" font-family=\"Helvetica,sans-Serif\" font-size=\"14.00\">value = [2693, 38]</text>\n<text text-anchor=\"start\" x=\"790\" y=\"-225.8\" font-family=\"Helvetica,sans-Serif\" font-size=\"14.00\">class = Poison</text>\n</g>\n<!-- 19&#45;&gt;21 -->\n<g id=\"edge21\" class=\"edge\">\n<title>19&#45;&gt;21</title>\n<path fill=\"none\" stroke=\"black\" d=\"M833.34,-331.77C833.41,-323.57 833.49,-314.8 833.57,-306.28\"/>\n<polygon fill=\"black\" stroke=\"black\" points=\"837.07,-306.09 833.66,-296.06 830.07,-306.03 837.07,-306.09\"/>\n</g>\n<!-- 22 -->\n<g id=\"node23\" class=\"node\">\n<title>22</title>\n<path fill=\"#f7d9c4\" stroke=\"black\" d=\"M741,-182C741,-182 655,-182 655,-182 649,-182 643,-176 643,-170 643,-170 643,-116 643,-116 643,-110 649,-104 655,-104 655,-104 741,-104 741,-104 747,-104 753,-110 753,-116 753,-116 753,-170 753,-170 753,-176 747,-182 741,-182\"/>\n<text text-anchor=\"start\" x=\"669\" y=\"-167.8\" font-family=\"Helvetica,sans-Serif\" font-size=\"14.00\">X</text>\n<text text-anchor=\"start\" x=\"679\" y=\"-167.8\" font-family=\"Helvetica,sans-Serif\" baseline-shift=\"sub\" font-size=\"14.00\">20</text>\n<text text-anchor=\"start\" x=\"693\" y=\"-167.8\" font-family=\"Helvetica,sans-Serif\" font-size=\"14.00\"> ≤ 2.5</text>\n<text text-anchor=\"start\" x=\"662.5\" y=\"-153.8\" font-family=\"Helvetica,sans-Serif\" font-size=\"14.00\">gini = 0.484</text>\n<text text-anchor=\"start\" x=\"657\" y=\"-139.8\" font-family=\"Helvetica,sans-Serif\" font-size=\"14.00\">samples = 34</text>\n<text text-anchor=\"start\" x=\"651\" y=\"-125.8\" font-family=\"Helvetica,sans-Serif\" font-size=\"14.00\">value = [20, 14]</text>\n<text text-anchor=\"start\" x=\"654\" y=\"-111.8\" font-family=\"Helvetica,sans-Serif\" font-size=\"14.00\">class = Poison</text>\n</g>\n<!-- 21&#45;&gt;22 -->\n<g id=\"edge22\" class=\"edge\">\n<title>21&#45;&gt;22</title>\n<path fill=\"none\" stroke=\"black\" d=\"M787.58,-217.77C776.2,-208.4 763.92,-198.29 752.21,-188.64\"/>\n<polygon fill=\"black\" stroke=\"black\" points=\"754.16,-185.71 744.21,-182.06 749.71,-191.12 754.16,-185.71\"/>\n</g>\n<!-- 25 -->\n<g id=\"node26\" class=\"node\">\n<title>25</title>\n<path fill=\"#e5823b\" stroke=\"black\" d=\"M884.5,-182C884.5,-182 783.5,-182 783.5,-182 777.5,-182 771.5,-176 771.5,-170 771.5,-170 771.5,-116 771.5,-116 771.5,-110 777.5,-104 783.5,-104 783.5,-104 884.5,-104 884.5,-104 890.5,-104 896.5,-110 896.5,-116 896.5,-116 896.5,-170 896.5,-170 896.5,-176 890.5,-182 884.5,-182\"/>\n<text text-anchor=\"start\" x=\"805\" y=\"-167.8\" font-family=\"Helvetica,sans-Serif\" font-size=\"14.00\">X</text>\n<text text-anchor=\"start\" x=\"815\" y=\"-167.8\" font-family=\"Helvetica,sans-Serif\" baseline-shift=\"sub\" font-size=\"14.00\">17</text>\n<text text-anchor=\"start\" x=\"829\" y=\"-167.8\" font-family=\"Helvetica,sans-Serif\" font-size=\"14.00\"> ≤ 1.5</text>\n<text text-anchor=\"start\" x=\"798.5\" y=\"-153.8\" font-family=\"Helvetica,sans-Serif\" font-size=\"14.00\">gini = 0.018</text>\n<text text-anchor=\"start\" x=\"785.5\" y=\"-139.8\" font-family=\"Helvetica,sans-Serif\" font-size=\"14.00\">samples = 2697</text>\n<text text-anchor=\"start\" x=\"779.5\" y=\"-125.8\" font-family=\"Helvetica,sans-Serif\" font-size=\"14.00\">value = [2673, 24]</text>\n<text text-anchor=\"start\" x=\"790\" y=\"-111.8\" font-family=\"Helvetica,sans-Serif\" font-size=\"14.00\">class = Poison</text>\n</g>\n<!-- 21&#45;&gt;25 -->\n<g id=\"edge25\" class=\"edge\">\n<title>21&#45;&gt;25</title>\n<path fill=\"none\" stroke=\"black\" d=\"M834,-217.77C834,-209.57 834,-200.8 834,-192.28\"/>\n<polygon fill=\"black\" stroke=\"black\" points=\"837.5,-192.06 834,-182.06 830.5,-192.06 837.5,-192.06\"/>\n</g>\n<!-- 23 -->\n<g id=\"node24\" class=\"node\">\n<title>23</title>\n<path fill=\"#e58139\" stroke=\"black\" d=\"M617,-68C617,-68 537,-68 537,-68 531,-68 525,-62 525,-56 525,-56 525,-12 525,-12 525,-6 531,0 537,0 537,0 617,0 617,0 623,0 629,-6 629,-12 629,-12 629,-56 629,-56 629,-62 623,-68 617,-68\"/>\n<text text-anchor=\"start\" x=\"549\" y=\"-52.8\" font-family=\"Helvetica,sans-Serif\" font-size=\"14.00\">gini = 0.0</text>\n<text text-anchor=\"start\" x=\"536\" y=\"-37.8\" font-family=\"Helvetica,sans-Serif\" font-size=\"14.00\">samples = 20</text>\n<text text-anchor=\"start\" x=\"534\" y=\"-22.8\" font-family=\"Helvetica,sans-Serif\" font-size=\"14.00\">value = [20, 0]</text>\n<text text-anchor=\"start\" x=\"533\" y=\"-7.8\" font-family=\"Helvetica,sans-Serif\" font-size=\"14.00\">class = Poison</text>\n</g>\n<!-- 22&#45;&gt;23 -->\n<g id=\"edge23\" class=\"edge\">\n<title>22&#45;&gt;23</title>\n<path fill=\"none\" stroke=\"black\" d=\"M655,-103.97C644.4,-94.6 633.01,-84.53 622.3,-75.06\"/>\n<polygon fill=\"black\" stroke=\"black\" points=\"624.45,-72.29 614.64,-68.28 619.81,-77.53 624.45,-72.29\"/>\n</g>\n<!-- 24 -->\n<g id=\"node25\" class=\"node\">\n<title>24</title>\n<path fill=\"#399de5\" stroke=\"black\" d=\"M737,-68C737,-68 659,-68 659,-68 653,-68 647,-62 647,-56 647,-56 647,-12 647,-12 647,-6 653,0 659,0 659,0 737,0 737,0 743,0 749,-6 749,-12 749,-12 749,-56 749,-56 749,-62 743,-68 737,-68\"/>\n<text text-anchor=\"start\" x=\"670\" y=\"-52.8\" font-family=\"Helvetica,sans-Serif\" font-size=\"14.00\">gini = 0.0</text>\n<text text-anchor=\"start\" x=\"657\" y=\"-37.8\" font-family=\"Helvetica,sans-Serif\" font-size=\"14.00\">samples = 14</text>\n<text text-anchor=\"start\" x=\"655\" y=\"-22.8\" font-family=\"Helvetica,sans-Serif\" font-size=\"14.00\">value = [0, 14]</text>\n<text text-anchor=\"start\" x=\"655.5\" y=\"-7.8\" font-family=\"Helvetica,sans-Serif\" font-size=\"14.00\">class = Edible</text>\n</g>\n<!-- 22&#45;&gt;24 -->\n<g id=\"edge24\" class=\"edge\">\n<title>22&#45;&gt;24</title>\n<path fill=\"none\" stroke=\"black\" d=\"M698,-103.97C698,-95.69 698,-86.86 698,-78.39\"/>\n<polygon fill=\"black\" stroke=\"black\" points=\"701.5,-78.28 698,-68.28 694.5,-78.28 701.5,-78.28\"/>\n</g>\n<!-- 26 -->\n<g id=\"node27\" class=\"node\">\n<title>26</title>\n<path fill=\"#e58139\" stroke=\"black\" d=\"M876.5,-68C876.5,-68 783.5,-68 783.5,-68 777.5,-68 771.5,-62 771.5,-56 771.5,-56 771.5,-12 771.5,-12 771.5,-6 777.5,0 783.5,0 783.5,0 876.5,0 876.5,0 882.5,0 888.5,-6 888.5,-12 888.5,-12 888.5,-56 888.5,-56 888.5,-62 882.5,-68 876.5,-68\"/>\n<text text-anchor=\"start\" x=\"802\" y=\"-52.8\" font-family=\"Helvetica,sans-Serif\" font-size=\"14.00\">gini = 0.0</text>\n<text text-anchor=\"start\" x=\"781.5\" y=\"-37.8\" font-family=\"Helvetica,sans-Serif\" font-size=\"14.00\">samples = 2416</text>\n<text text-anchor=\"start\" x=\"779.5\" y=\"-22.8\" font-family=\"Helvetica,sans-Serif\" font-size=\"14.00\">value = [2416, 0]</text>\n<text text-anchor=\"start\" x=\"786\" y=\"-7.8\" font-family=\"Helvetica,sans-Serif\" font-size=\"14.00\">class = Poison</text>\n</g>\n<!-- 25&#45;&gt;26 -->\n<g id=\"edge26\" class=\"edge\">\n<title>25&#45;&gt;26</title>\n<path fill=\"none\" stroke=\"black\" d=\"M832.58,-103.97C832.27,-95.69 831.94,-86.86 831.62,-78.39\"/>\n<polygon fill=\"black\" stroke=\"black\" points=\"835.12,-78.15 831.24,-68.28 828.12,-78.41 835.12,-78.15\"/>\n</g>\n<!-- 27 -->\n<g id=\"node28\" class=\"node\">\n<title>27</title>\n<path fill=\"#e78d4b\" stroke=\"black\" d=\"M1011.5,-68C1011.5,-68 918.5,-68 918.5,-68 912.5,-68 906.5,-62 906.5,-56 906.5,-56 906.5,-12 906.5,-12 906.5,-6 912.5,0 918.5,0 918.5,0 1011.5,0 1011.5,0 1017.5,0 1023.5,-6 1023.5,-12 1023.5,-12 1023.5,-56 1023.5,-56 1023.5,-62 1017.5,-68 1011.5,-68\"/>\n<text text-anchor=\"start\" x=\"929.5\" y=\"-52.8\" font-family=\"Helvetica,sans-Serif\" font-size=\"14.00\">gini = 0.156</text>\n<text text-anchor=\"start\" x=\"920\" y=\"-37.8\" font-family=\"Helvetica,sans-Serif\" font-size=\"14.00\">samples = 281</text>\n<text text-anchor=\"start\" x=\"914.5\" y=\"-22.8\" font-family=\"Helvetica,sans-Serif\" font-size=\"14.00\">value = [257, 24]</text>\n<text text-anchor=\"start\" x=\"921\" y=\"-7.8\" font-family=\"Helvetica,sans-Serif\" font-size=\"14.00\">class = Poison</text>\n</g>\n<!-- 25&#45;&gt;27 -->\n<g id=\"edge27\" class=\"edge\">\n<title>25&#45;&gt;27</title>\n<path fill=\"none\" stroke=\"black\" d=\"M880.55,-103.97C892.15,-94.51 904.6,-84.33 916.3,-74.78\"/>\n<polygon fill=\"black\" stroke=\"black\" points=\"918.72,-77.32 924.25,-68.28 914.29,-71.9 918.72,-77.32\"/>\n</g>\n<!-- 29 -->\n<g id=\"node30\" class=\"node\">\n<title>29</title>\n<path fill=\"#6fb8ec\" stroke=\"black\" d=\"M1020.5,-296C1020.5,-296 927.5,-296 927.5,-296 921.5,-296 915.5,-290 915.5,-284 915.5,-284 915.5,-230 915.5,-230 915.5,-224 921.5,-218 927.5,-218 927.5,-218 1020.5,-218 1020.5,-218 1026.5,-218 1032.5,-224 1032.5,-230 1032.5,-230 1032.5,-284 1032.5,-284 1032.5,-290 1026.5,-296 1020.5,-296\"/>\n<text text-anchor=\"start\" x=\"945\" y=\"-281.8\" font-family=\"Helvetica,sans-Serif\" font-size=\"14.00\">X</text>\n<text text-anchor=\"start\" x=\"955\" y=\"-281.8\" font-family=\"Helvetica,sans-Serif\" baseline-shift=\"sub\" font-size=\"14.00\">21</text>\n<text text-anchor=\"start\" x=\"969\" y=\"-281.8\" font-family=\"Helvetica,sans-Serif\" font-size=\"14.00\"> ≤ 1.5</text>\n<text text-anchor=\"start\" x=\"938.5\" y=\"-267.8\" font-family=\"Helvetica,sans-Serif\" font-size=\"14.00\">gini = 0.338</text>\n<text text-anchor=\"start\" x=\"929\" y=\"-253.8\" font-family=\"Helvetica,sans-Serif\" font-size=\"14.00\">samples = 455</text>\n<text text-anchor=\"start\" x=\"923.5\" y=\"-239.8\" font-family=\"Helvetica,sans-Serif\" font-size=\"14.00\">value = [98, 357]</text>\n<text text-anchor=\"start\" x=\"931.5\" y=\"-225.8\" font-family=\"Helvetica,sans-Serif\" font-size=\"14.00\">class = Edible</text>\n</g>\n<!-- 28&#45;&gt;29 -->\n<g id=\"edge29\" class=\"edge\">\n<title>28&#45;&gt;29</title>\n<path fill=\"none\" stroke=\"black\" d=\"M975.32,-331.77C975.17,-323.57 975.01,-314.8 974.86,-306.28\"/>\n<polygon fill=\"black\" stroke=\"black\" points=\"978.36,-305.99 974.68,-296.06 971.36,-306.12 978.36,-305.99\"/>\n</g>\n<!-- 34 -->\n<g id=\"node35\" class=\"node\">\n<title>34</title>\n<path fill=\"#e58139\" stroke=\"black\" d=\"M1143,-291C1143,-291 1063,-291 1063,-291 1057,-291 1051,-285 1051,-279 1051,-279 1051,-235 1051,-235 1051,-229 1057,-223 1063,-223 1063,-223 1143,-223 1143,-223 1149,-223 1155,-229 1155,-235 1155,-235 1155,-279 1155,-279 1155,-285 1149,-291 1143,-291\"/>\n<text text-anchor=\"start\" x=\"1075\" y=\"-275.8\" font-family=\"Helvetica,sans-Serif\" font-size=\"14.00\">gini = 0.0</text>\n<text text-anchor=\"start\" x=\"1062\" y=\"-260.8\" font-family=\"Helvetica,sans-Serif\" font-size=\"14.00\">samples = 87</text>\n<text text-anchor=\"start\" x=\"1060\" y=\"-245.8\" font-family=\"Helvetica,sans-Serif\" font-size=\"14.00\">value = [87, 0]</text>\n<text text-anchor=\"start\" x=\"1059\" y=\"-230.8\" font-family=\"Helvetica,sans-Serif\" font-size=\"14.00\">class = Poison</text>\n</g>\n<!-- 28&#45;&gt;34 -->\n<g id=\"edge34\" class=\"edge\">\n<title>28&#45;&gt;34</title>\n<path fill=\"none\" stroke=\"black\" d=\"M1019.35,-331.77C1031.73,-320.85 1045.25,-308.93 1057.73,-297.92\"/>\n<polygon fill=\"black\" stroke=\"black\" points=\"1060.17,-300.44 1065.36,-291.2 1055.54,-295.19 1060.17,-300.44\"/>\n</g>\n<!-- 30 -->\n<g id=\"node31\" class=\"node\">\n<title>30</title>\n<path fill=\"#399de5\" stroke=\"black\" d=\"M1014,-177C1014,-177 928,-177 928,-177 922,-177 916,-171 916,-165 916,-165 916,-121 916,-121 916,-115 922,-109 928,-109 928,-109 1014,-109 1014,-109 1020,-109 1026,-115 1026,-121 1026,-121 1026,-165 1026,-165 1026,-171 1020,-177 1014,-177\"/>\n<text text-anchor=\"start\" x=\"943\" y=\"-161.8\" font-family=\"Helvetica,sans-Serif\" font-size=\"14.00\">gini = 0.0</text>\n<text text-anchor=\"start\" x=\"926\" y=\"-146.8\" font-family=\"Helvetica,sans-Serif\" font-size=\"14.00\">samples = 244</text>\n<text text-anchor=\"start\" x=\"924\" y=\"-131.8\" font-family=\"Helvetica,sans-Serif\" font-size=\"14.00\">value = [0, 244]</text>\n<text text-anchor=\"start\" x=\"928.5\" y=\"-116.8\" font-family=\"Helvetica,sans-Serif\" font-size=\"14.00\">class = Edible</text>\n</g>\n<!-- 29&#45;&gt;30 -->\n<g id=\"edge30\" class=\"edge\">\n<title>29&#45;&gt;30</title>\n<path fill=\"none\" stroke=\"black\" d=\"M972.98,-217.77C972.71,-207.99 972.43,-197.4 972.16,-187.38\"/>\n<polygon fill=\"black\" stroke=\"black\" points=\"975.66,-187.1 971.89,-177.2 968.66,-187.29 975.66,-187.1\"/>\n</g>\n<!-- 31 -->\n<g id=\"node32\" class=\"node\">\n<title>31</title>\n<path fill=\"#e5f2fc\" stroke=\"black\" d=\"M1148,-182C1148,-182 1056,-182 1056,-182 1050,-182 1044,-176 1044,-170 1044,-170 1044,-116 1044,-116 1044,-110 1050,-104 1056,-104 1056,-104 1148,-104 1148,-104 1154,-104 1160,-110 1160,-116 1160,-116 1160,-170 1160,-170 1160,-176 1154,-182 1148,-182\"/>\n<text text-anchor=\"start\" x=\"1076.5\" y=\"-167.8\" font-family=\"Helvetica,sans-Serif\" font-size=\"14.00\">X</text>\n<text text-anchor=\"start\" x=\"1086.5\" y=\"-167.8\" font-family=\"Helvetica,sans-Serif\" baseline-shift=\"sub\" font-size=\"14.00\">3</text>\n<text text-anchor=\"start\" x=\"1093.5\" y=\"-167.8\" font-family=\"Helvetica,sans-Serif\" font-size=\"14.00\"> ≤ 0.5</text>\n<text text-anchor=\"start\" x=\"1066.5\" y=\"-153.8\" font-family=\"Helvetica,sans-Serif\" font-size=\"14.00\">gini = 0.497</text>\n<text text-anchor=\"start\" x=\"1057.5\" y=\"-139.8\" font-family=\"Helvetica,sans-Serif\" font-size=\"14.00\">samples = 211</text>\n<text text-anchor=\"start\" x=\"1052\" y=\"-125.8\" font-family=\"Helvetica,sans-Serif\" font-size=\"14.00\">value = [98, 113]</text>\n<text text-anchor=\"start\" x=\"1059.5\" y=\"-111.8\" font-family=\"Helvetica,sans-Serif\" font-size=\"14.00\">class = Edible</text>\n</g>\n<!-- 29&#45;&gt;31 -->\n<g id=\"edge31\" class=\"edge\">\n<title>29&#45;&gt;31</title>\n<path fill=\"none\" stroke=\"black\" d=\"M1017.69,-217.77C1028.4,-208.4 1039.96,-198.29 1050.98,-188.64\"/>\n<polygon fill=\"black\" stroke=\"black\" points=\"1053.28,-191.28 1058.5,-182.06 1048.67,-186.01 1053.28,-191.28\"/>\n</g>\n<!-- 32 -->\n<g id=\"node33\" class=\"node\">\n<title>32</title>\n<path fill=\"#e78945\" stroke=\"black\" d=\"M1142,-68C1142,-68 1060,-68 1060,-68 1054,-68 1048,-62 1048,-56 1048,-56 1048,-12 1048,-12 1048,-6 1054,0 1060,0 1060,0 1142,0 1142,0 1148,0 1154,-6 1154,-12 1154,-12 1154,-56 1154,-56 1154,-62 1148,-68 1142,-68\"/>\n<text text-anchor=\"start\" x=\"1065.5\" y=\"-52.8\" font-family=\"Helvetica,sans-Serif\" font-size=\"14.00\">gini = 0.109</text>\n<text text-anchor=\"start\" x=\"1056\" y=\"-37.8\" font-family=\"Helvetica,sans-Serif\" font-size=\"14.00\">samples = 104</text>\n<text text-anchor=\"start\" x=\"1058\" y=\"-22.8\" font-family=\"Helvetica,sans-Serif\" font-size=\"14.00\">value = [98, 6]</text>\n<text text-anchor=\"start\" x=\"1057\" y=\"-7.8\" font-family=\"Helvetica,sans-Serif\" font-size=\"14.00\">class = Poison</text>\n</g>\n<!-- 31&#45;&gt;32 -->\n<g id=\"edge32\" class=\"edge\">\n<title>31&#45;&gt;32</title>\n<path fill=\"none\" stroke=\"black\" d=\"M1101.64,-103.97C1101.57,-95.69 1101.48,-86.86 1101.41,-78.39\"/>\n<polygon fill=\"black\" stroke=\"black\" points=\"1104.9,-78.25 1101.31,-68.28 1097.9,-78.32 1104.9,-78.25\"/>\n</g>\n<!-- 33 -->\n<g id=\"node34\" class=\"node\">\n<title>33</title>\n<path fill=\"#399de5\" stroke=\"black\" d=\"M1270,-68C1270,-68 1184,-68 1184,-68 1178,-68 1172,-62 1172,-56 1172,-56 1172,-12 1172,-12 1172,-6 1178,0 1184,0 1184,0 1270,0 1270,0 1276,0 1282,-6 1282,-12 1282,-12 1282,-56 1282,-56 1282,-62 1276,-68 1270,-68\"/>\n<text text-anchor=\"start\" x=\"1199\" y=\"-52.8\" font-family=\"Helvetica,sans-Serif\" font-size=\"14.00\">gini = 0.0</text>\n<text text-anchor=\"start\" x=\"1182\" y=\"-37.8\" font-family=\"Helvetica,sans-Serif\" font-size=\"14.00\">samples = 107</text>\n<text text-anchor=\"start\" x=\"1180\" y=\"-22.8\" font-family=\"Helvetica,sans-Serif\" font-size=\"14.00\">value = [0, 107]</text>\n<text text-anchor=\"start\" x=\"1184.5\" y=\"-7.8\" font-family=\"Helvetica,sans-Serif\" font-size=\"14.00\">class = Edible</text>\n</g>\n<!-- 31&#45;&gt;33 -->\n<g id=\"edge33\" class=\"edge\">\n<title>31&#45;&gt;33</title>\n<path fill=\"none\" stroke=\"black\" d=\"M1146.42,-103.97C1157.38,-94.6 1169.14,-84.53 1180.21,-75.06\"/>\n<polygon fill=\"black\" stroke=\"black\" points=\"1182.79,-77.45 1188.12,-68.28 1178.24,-72.13 1182.79,-77.45\"/>\n</g>\n</g>\n</svg>\n",
      "text/plain": [
       "<graphviz.sources.Source at 0x20752396c10>"
      ]
     },
     "execution_count": 9,
     "metadata": {},
     "output_type": "execute_result"
    }
   ],
   "source": [
    "import graphviz\n",
    "mushroom_data = tree.export_graphviz(\n",
    "    dtm.fit(xm_train, ym_train), \n",
    "    out_file=None,\n",
    "    class_names=['Poison', 'Edible'],\n",
    "    filled=True, rounded=True, \n",
    "    special_characters=True)\n",
    "graph = graphviz.Source(mushroom_data)\n",
    "graph"
   ]
  },
  {
   "cell_type": "code",
   "execution_count": 10,
   "metadata": {},
   "outputs": [
    {
     "name": "stdout",
     "output_type": "stream",
     "text": [
      "Test set accuracy: 0.99\n",
      "Test set accuracy: 0.9938461538461538\n"
     ]
    }
   ],
   "source": [
    "dtm.fit(xm_train, ym_train)\n",
    "# Memprediksi label set test\n",
    "ym_pred_dtm = dtm.predict(xm_test)\n",
    "#  menghitung set accuracy\n",
    "acc_dtm = accuracy_score(ym_test, ym_pred_dtm)\n",
    "print(\"Test set accuracy: {:.2f}\".format(acc_dtm))\n",
    "print(f\"Test set accuracy: {acc_dtm}\")"
   ]
  },
  {
   "cell_type": "code",
   "execution_count": 17,
   "metadata": {},
   "outputs": [
    {
     "name": "stdout",
     "output_type": "stream",
     "text": [
      "0.9953839052161871\n",
      "0.9938461538461538\n"
     ]
    }
   ],
   "source": [
    "score_train_dt = dtm.score(xm_train, ym_train)\n",
    "pred_test_dt = dtm.score(xm_test, ym_test)\n",
    "print(score_train_dt)\n",
    "print(pred_test_dt)"
   ]
  },
  {
   "cell_type": "markdown",
   "metadata": {},
   "source": [
    "### RandomForest"
   ]
  },
  {
   "cell_type": "code",
   "execution_count": 11,
   "metadata": {},
   "outputs": [
    {
     "name": "stdout",
     "output_type": "stream",
     "text": [
      "Test set accuracy: 1.00\n",
      "Test set accuracy: 1.0\n"
     ]
    },
    {
     "name": "stderr",
     "output_type": "stream",
     "text": [
      "<ipython-input-11-4475299c2984>:7: DataConversionWarning: A column-vector y was passed when a 1d array was expected. Please change the shape of y to (n_samples,), for example using ravel().\n",
      "  rfm.fit(xm_train, ym_train)\n"
     ]
    }
   ],
   "source": [
    "# Pada kasus kali ini kita akan menggunakan estimator pada RandomForest\n",
    "# Untuk detail parameter (hyperparameter) silahkan cek dokumentasi\n",
    "\n",
    "rfm = RandomForestClassifier(n_estimators=10, random_state=1)\n",
    "\n",
    "# Sesuaikan dt ke set training\n",
    "rfm.fit(xm_train, ym_train)\n",
    "\n",
    "# Memprediksi label set test\n",
    "ym_pred_rfm = rfm.predict(xm_test)\n",
    "\n",
    "#  menghitung set accuracy\n",
    "acc_rfm = accuracy_score(ym_test, ym_pred_rfm)\n",
    "print(\"Test set accuracy: {:.2f}\".format(acc_rfm))\n",
    "print(f\"Test set accuracy: {acc_rfm}\")"
   ]
  },
  {
   "cell_type": "code",
   "execution_count": 18,
   "metadata": {},
   "outputs": [
    {
     "name": "stdout",
     "output_type": "stream",
     "text": [
      "1.0\n",
      "1.0\n"
     ]
    }
   ],
   "source": [
    "score_train_rf = rfm.score(xm_train, ym_train)\n",
    "pred_test_rf = rfm.score(xm_test, ym_test)\n",
    "print(score_train_rf)\n",
    "print(pred_test_rf)"
   ]
  },
  {
   "cell_type": "code",
   "execution_count": 25,
   "metadata": {},
   "outputs": [],
   "source": [
    "n_estimators = [5,20,50,100] # number of trees in the random forest\n",
    "max_features = ['auto', 'sqrt'] # number of features in consideration at every split\n",
    "max_depth = [int(x) for x in np.linspace(10, 120, num = 12)] # maximum number of levels allowed in each decision tree\n",
    "min_samples_split = [2, 6, 10] # minimum sample number to split a node\n",
    "min_samples_leaf = [1, 3, 4] # minimum sample number that can be stored in a leaf node\n",
    "bootstrap = [True, False] # method used to sample data points\n",
    "random_grid = {'n_estimators': n_estimators,'max_features': max_features,'max_depth': max_depth,'min_samples_split': min_samples_split,'min_samples_leaf': min_samples_leaf,'bootstrap': bootstrap}"
   ]
  },
  {
   "cell_type": "code",
   "execution_count": 26,
   "metadata": {},
   "outputs": [],
   "source": [
    "from sklearn.ensemble import RandomForestRegressor\n",
    "rf = RandomForestRegressor()"
   ]
  },
  {
   "cell_type": "code",
   "execution_count": 27,
   "metadata": {},
   "outputs": [],
   "source": [
    "from sklearn.model_selection import RandomizedSearchCV\n",
    "rf_random = RandomizedSearchCV(estimator = rf, param_distributions = random_grid,\n",
    "               n_iter = 100, cv = 5, verbose=2, random_state=35, n_jobs = -1)"
   ]
  },
  {
   "cell_type": "code",
   "execution_count": 28,
   "metadata": {},
   "outputs": [
    {
     "name": "stdout",
     "output_type": "stream",
     "text": [
      "Fitting 5 folds for each of 100 candidates, totalling 500 fits\n"
     ]
    },
    {
     "name": "stderr",
     "output_type": "stream",
     "text": [
      "c:\\Users\\Layla\\anaconda3\\lib\\site-packages\\sklearn\\model_selection\\_search.py:880: DataConversionWarning: A column-vector y was passed when a 1d array was expected. Please change the shape of y to (n_samples,), for example using ravel().\n",
      "  self.best_estimator_.fit(X, y, **fit_params)\n"
     ]
    },
    {
     "data": {
      "text/plain": [
       "RandomizedSearchCV(cv=5, estimator=RandomForestRegressor(), n_iter=100,\n",
       "                   n_jobs=-1,\n",
       "                   param_distributions={'bootstrap': [True, False],\n",
       "                                        'max_depth': [10, 20, 30, 40, 50, 60,\n",
       "                                                      70, 80, 90, 100, 110,\n",
       "                                                      120],\n",
       "                                        'max_features': ['auto', 'sqrt'],\n",
       "                                        'min_samples_leaf': [1, 3, 4],\n",
       "                                        'min_samples_split': [2, 6, 10],\n",
       "                                        'n_estimators': [5, 20, 50, 100]},\n",
       "                   random_state=35, verbose=2)"
      ]
     },
     "execution_count": 28,
     "metadata": {},
     "output_type": "execute_result"
    }
   ],
   "source": [
    "rf_random.fit(xm_train, ym_train)"
   ]
  },
  {
   "cell_type": "code",
   "execution_count": 29,
   "metadata": {},
   "outputs": [
    {
     "name": "stdout",
     "output_type": "stream",
     "text": [
      "Random grid:  {'n_estimators': [5, 20, 50, 100], 'max_features': ['auto', 'sqrt'], 'max_depth': [10, 20, 30, 40, 50, 60, 70, 80, 90, 100, 110, 120], 'min_samples_split': [2, 6, 10], 'min_samples_leaf': [1, 3, 4], 'bootstrap': [True, False]} \n",
      "\n",
      "Best Parameters:  {'n_estimators': 20, 'min_samples_split': 2, 'min_samples_leaf': 3, 'max_features': 'auto', 'max_depth': 100, 'bootstrap': False}  \n",
      "\n"
     ]
    }
   ],
   "source": [
    "print ('Random grid: ', random_grid, '\\n')\n",
    "print ('Best Parameters: ', rf_random.best_params_, ' \\n')"
   ]
  },
  {
   "cell_type": "markdown",
   "metadata": {},
   "source": [
    "## __Tugas 2 : Boosting__\n",
    "\n",
    "Pada folder data, terdapat dataset jamur yang kita gunakan pada materi Decision Tree. Berdasarkan dataset yang sama, bandingkan peforma antara algoritma DT dan AdaBoost. Gunakan tunning hyperparameter untuk mendapatkan parameter dan akurasi yang terbaik."
   ]
  },
  {
   "cell_type": "markdown",
   "metadata": {},
   "source": [
    "### Adaboost"
   ]
  },
  {
   "cell_type": "code",
   "execution_count": 20,
   "metadata": {},
   "outputs": [
    {
     "name": "stdout",
     "output_type": "stream",
     "text": [
      "Test set accuracy: 0.84\n",
      "Test set accuracy: 0.8449230769230769\n"
     ]
    },
    {
     "name": "stderr",
     "output_type": "stream",
     "text": [
      "c:\\Users\\Layla\\anaconda3\\lib\\site-packages\\sklearn\\utils\\validation.py:63: DataConversionWarning: A column-vector y was passed when a 1d array was expected. Please change the shape of y to (n_samples, ), for example using ravel().\n",
      "  return f(*args, **kwargs)\n"
     ]
    }
   ],
   "source": [
    "from sklearn.ensemble import AdaBoostClassifier\n",
    "# Pada kasus kali ini kita akan menggunakan estimator pada AdaBoost\n",
    "# Untuk detail parameter (hyperparameter) silahkan cek dokumentasi\n",
    "\n",
    "adam = AdaBoostClassifier(n_estimators=2)\n",
    "\n",
    "# Sesuaikan dt ke set training\n",
    "adam.fit(xm_train, ym_train)\n",
    "\n",
    "# Memprediksi label set test\n",
    "y_pred_ada = adam.predict(xm_test)\n",
    "\n",
    "#  menghitung set accuracy\n",
    "acc_ada = accuracy_score(ym_test, y_pred_ada)\n",
    "print(\"Test set accuracy: {:.2f}\".format(acc_ada))\n",
    "print(f\"Test set accuracy: {acc_ada}\")"
   ]
  },
  {
   "cell_type": "code",
   "execution_count": 21,
   "metadata": {},
   "outputs": [
    {
     "name": "stdout",
     "output_type": "stream",
     "text": [
      "0.8430527773503615\n",
      "0.8449230769230769\n"
     ]
    }
   ],
   "source": [
    "score_train_ada = adam.score(xm_train, ym_train)\n",
    "pred_test_ada = adam.score(xm_test, ym_test)\n",
    "print(score_train_ada)\n",
    "print(pred_test_ada)"
   ]
  },
  {
   "cell_type": "code",
   "execution_count": 23,
   "metadata": {},
   "outputs": [
    {
     "name": "stdout",
     "output_type": "stream",
     "text": [
      "Best: 1.000000 using {'learning_rate': 1.0, 'n_estimators': 50}\n"
     ]
    },
    {
     "name": "stderr",
     "output_type": "stream",
     "text": [
      "c:\\Users\\Layla\\anaconda3\\lib\\site-packages\\sklearn\\utils\\validation.py:63: DataConversionWarning: A column-vector y was passed when a 1d array was expected. Please change the shape of y to (n_samples, ), for example using ravel().\n",
      "  return f(*args, **kwargs)\n"
     ]
    }
   ],
   "source": [
    "from sklearn.model_selection import GridSearchCV\n",
    "from sklearn.pipeline import make_pipeline\n",
    "# defining the classifier\n",
    "model = AdaBoostClassifier()\n",
    "# creating a dic for the grid\n",
    "grid = dict()\n",
    "# estimator till 500\n",
    "grid['n_estimators'] = [10, 50]\n",
    "# defining learning rate\n",
    "grid['learning_rate'] = [0.0001, 0.01, 0.1, 1.0, 1.1, 1.2]\n",
    "# initializing the grid search\n",
    "grid_search = GridSearchCV(estimator=model, param_grid=grid, n_jobs=-1, scoring='accuracy')\n",
    "# training the model on grid search for hyperparameter tuning of Adaboost\n",
    "grid_result = grid_search.fit(xm_train, ym_train)\n",
    "# finding the best results /hyperparameter tuning of Adaboost\n",
    "print(\"Best: %f using %s\" % (grid_result.best_score_, grid_result.best_params_))"
   ]
  },
  {
   "cell_type": "markdown",
   "metadata": {},
   "source": [
    "## __Tugas 3 : Stacking__\n",
    "\n",
    "Dengan menggunakan data yang sama, buatlan ensemble voting dengan algoritma\n",
    "1. Logistic Regression\n",
    "2. SVM kernel polynomial\n",
    "3. Decission Tree\n",
    "\n",
    "Anda boleh melakukan eksplorasi dengan melakukan tunning hyperparameter"
   ]
  },
  {
   "cell_type": "code",
   "execution_count": null,
   "metadata": {},
   "outputs": [],
   "source": [
    "from sklearn.svm import SVC # import SVM classifier\n",
    "from sklearn.ensemble import VotingClassifier # import model Voting"
   ]
  },
  {
   "cell_type": "code",
   "execution_count": null,
   "metadata": {},
   "outputs": [
    {
     "data": {
      "text/html": [
       "<div>\n",
       "<style scoped>\n",
       "    .dataframe tbody tr th:only-of-type {\n",
       "        vertical-align: middle;\n",
       "    }\n",
       "\n",
       "    .dataframe tbody tr th {\n",
       "        vertical-align: top;\n",
       "    }\n",
       "\n",
       "    .dataframe thead th {\n",
       "        text-align: right;\n",
       "    }\n",
       "</style>\n",
       "<table border=\"1\" class=\"dataframe\">\n",
       "  <thead>\n",
       "    <tr style=\"text-align: right;\">\n",
       "      <th></th>\n",
       "      <th>Pregnancies</th>\n",
       "      <th>Glucose</th>\n",
       "      <th>BloodPressure</th>\n",
       "      <th>SkinThickness</th>\n",
       "      <th>Insulin</th>\n",
       "      <th>BMI</th>\n",
       "      <th>DiabetesPedigreeFunction</th>\n",
       "      <th>Age</th>\n",
       "      <th>Outcome</th>\n",
       "    </tr>\n",
       "  </thead>\n",
       "  <tbody>\n",
       "    <tr>\n",
       "      <th>0</th>\n",
       "      <td>6</td>\n",
       "      <td>148</td>\n",
       "      <td>72</td>\n",
       "      <td>35</td>\n",
       "      <td>0</td>\n",
       "      <td>33.6</td>\n",
       "      <td>0.627</td>\n",
       "      <td>50</td>\n",
       "      <td>1</td>\n",
       "    </tr>\n",
       "    <tr>\n",
       "      <th>1</th>\n",
       "      <td>1</td>\n",
       "      <td>85</td>\n",
       "      <td>66</td>\n",
       "      <td>29</td>\n",
       "      <td>0</td>\n",
       "      <td>26.6</td>\n",
       "      <td>0.351</td>\n",
       "      <td>31</td>\n",
       "      <td>0</td>\n",
       "    </tr>\n",
       "    <tr>\n",
       "      <th>2</th>\n",
       "      <td>8</td>\n",
       "      <td>183</td>\n",
       "      <td>64</td>\n",
       "      <td>0</td>\n",
       "      <td>0</td>\n",
       "      <td>23.3</td>\n",
       "      <td>0.672</td>\n",
       "      <td>32</td>\n",
       "      <td>1</td>\n",
       "    </tr>\n",
       "    <tr>\n",
       "      <th>3</th>\n",
       "      <td>1</td>\n",
       "      <td>89</td>\n",
       "      <td>66</td>\n",
       "      <td>23</td>\n",
       "      <td>94</td>\n",
       "      <td>28.1</td>\n",
       "      <td>0.167</td>\n",
       "      <td>21</td>\n",
       "      <td>0</td>\n",
       "    </tr>\n",
       "    <tr>\n",
       "      <th>4</th>\n",
       "      <td>0</td>\n",
       "      <td>137</td>\n",
       "      <td>40</td>\n",
       "      <td>35</td>\n",
       "      <td>168</td>\n",
       "      <td>43.1</td>\n",
       "      <td>2.288</td>\n",
       "      <td>33</td>\n",
       "      <td>1</td>\n",
       "    </tr>\n",
       "  </tbody>\n",
       "</table>\n",
       "</div>"
      ],
      "text/plain": [
       "   Pregnancies  Glucose  BloodPressure  SkinThickness  Insulin   BMI  \\\n",
       "0            6      148             72             35        0  33.6   \n",
       "1            1       85             66             29        0  26.6   \n",
       "2            8      183             64              0        0  23.3   \n",
       "3            1       89             66             23       94  28.1   \n",
       "4            0      137             40             35      168  43.1   \n",
       "\n",
       "   DiabetesPedigreeFunction  Age  Outcome  \n",
       "0                     0.627   50        1  \n",
       "1                     0.351   31        0  \n",
       "2                     0.672   32        1  \n",
       "3                     0.167   21        0  \n",
       "4                     2.288   33        1  "
      ]
     },
     "execution_count": 14,
     "metadata": {},
     "output_type": "execute_result"
    }
   ],
   "source": [
    "# Load Data\n",
    "\n",
    "dbt = pd.read_csv('data/diabetes.csv')\n",
    "\n",
    "dbt.head()"
   ]
  },
  {
   "cell_type": "code",
   "execution_count": null,
   "metadata": {},
   "outputs": [
    {
     "data": {
      "text/plain": [
       "Pregnancies                 0\n",
       "Glucose                     0\n",
       "BloodPressure               0\n",
       "SkinThickness               0\n",
       "Insulin                     0\n",
       "BMI                         0\n",
       "DiabetesPedigreeFunction    0\n",
       "Age                         0\n",
       "Outcome                     0\n",
       "dtype: int64"
      ]
     },
     "execution_count": 15,
     "metadata": {},
     "output_type": "execute_result"
    }
   ],
   "source": [
    "# Cek kolom null\n",
    "dbt.isnull().sum()"
   ]
  },
  {
   "cell_type": "code",
   "execution_count": null,
   "metadata": {},
   "outputs": [
    {
     "name": "stdout",
     "output_type": "stream",
     "text": [
      "============================================\n",
      "Pregnancies ==> Missing zeros : 111\n",
      "============================================\n",
      "Glucose ==> Missing zeros : 5\n",
      "============================================\n",
      "BloodPressure ==> Missing zeros : 35\n",
      "============================================\n",
      "SkinThickness ==> Missing zeros : 227\n",
      "============================================\n",
      "Insulin ==> Missing zeros : 374\n",
      "============================================\n",
      "BMI ==> Missing zeros : 11\n",
      "============================================\n",
      "DiabetesPedigreeFunction ==> Missing zeros : 0\n",
      "============================================\n",
      "Age ==> Missing zeros : 0\n"
     ]
    }
   ],
   "source": [
    "feature_columns = ['Pregnancies', 'Glucose', 'BloodPressure', 'SkinThickness', 'Insulin', 'BMI', 'DiabetesPedigreeFunction', 'Age']\n",
    "for column in feature_columns:\n",
    "    print(\"============================================\")\n",
    "    print(f\"{column} ==> Missing zeros : {len(dbt.loc[dbt[column] == 0])}\")"
   ]
  },
  {
   "cell_type": "code",
   "execution_count": null,
   "metadata": {},
   "outputs": [],
   "source": [
    "from sklearn.impute import SimpleImputer\n",
    "\n",
    "fill_values = SimpleImputer(missing_values=0, strategy=\"mean\", copy=False)\n",
    "\n",
    "dbt[feature_columns] = fill_values.fit_transform(dbt[feature_columns])"
   ]
  },
  {
   "cell_type": "code",
   "execution_count": null,
   "metadata": {},
   "outputs": [],
   "source": [
    "x = dbt[feature_columns]\n",
    "y = dbt.Outcome\n",
    "\n",
    "x_train, x_test, y_train, y_test = train_test_split(x, y, test_size=0.3, random_state=42)"
   ]
  },
  {
   "cell_type": "markdown",
   "metadata": {},
   "source": [
    "### Logistic Regression"
   ]
  },
  {
   "cell_type": "code",
   "execution_count": null,
   "metadata": {},
   "outputs": [],
   "source": [
    "from sklearn.linear_model import LogisticRegression"
   ]
  },
  {
   "cell_type": "code",
   "execution_count": null,
   "metadata": {},
   "outputs": [],
   "source": [
    "# all parameters not specified are set to their defaults\n",
    "logisticRegr = LogisticRegression()"
   ]
  },
  {
   "cell_type": "code",
   "execution_count": null,
   "metadata": {},
   "outputs": [
    {
     "name": "stderr",
     "output_type": "stream",
     "text": [
      "c:\\Users\\Layla\\anaconda3\\lib\\site-packages\\sklearn\\linear_model\\_logistic.py:763: ConvergenceWarning: lbfgs failed to converge (status=1):\n",
      "STOP: TOTAL NO. of ITERATIONS REACHED LIMIT.\n",
      "\n",
      "Increase the number of iterations (max_iter) or scale the data as shown in:\n",
      "    https://scikit-learn.org/stable/modules/preprocessing.html\n",
      "Please also refer to the documentation for alternative solver options:\n",
      "    https://scikit-learn.org/stable/modules/linear_model.html#logistic-regression\n",
      "  n_iter_i = _check_optimize_result(\n"
     ]
    },
    {
     "data": {
      "text/plain": [
       "LogisticRegression()"
      ]
     },
     "execution_count": 21,
     "metadata": {},
     "output_type": "execute_result"
    }
   ],
   "source": [
    "logisticRegr.fit(x_train, y_train)"
   ]
  },
  {
   "cell_type": "code",
   "execution_count": null,
   "metadata": {},
   "outputs": [
    {
     "name": "stdout",
     "output_type": "stream",
     "text": [
      "Test set accuracy: 0.74\n",
      "Test set accuracy: 0.7359307359307359\n"
     ]
    }
   ],
   "source": [
    "# Prediksi dengan data test\n",
    "y_pred_lr = logisticRegr.predict(x_test)\n",
    "\n",
    "# Evaluasi akurasi testing data\n",
    "acc_lr = accuracy_score(y_test, y_pred_lr)\n",
    "\n",
    "# Print hasil evaluasi\n",
    "print(\"Test set accuracy: {:.2f}\".format(acc_lr))\n",
    "print(f\"Test set accuracy: {acc_lr}\")"
   ]
  },
  {
   "cell_type": "markdown",
   "metadata": {},
   "source": [
    "### SVM Poly"
   ]
  },
  {
   "cell_type": "code",
   "execution_count": null,
   "metadata": {},
   "outputs": [
    {
     "name": "stdout",
     "output_type": "stream",
     "text": [
      "Test set accuracy: 0.74\n",
      "Test set accuracy: 0.7402597402597403\n"
     ]
    }
   ],
   "source": [
    "# Model SVM linier tanpa tunnning hyperparameter\n",
    "svm_pl = SVC(kernel='poly')\n",
    "\n",
    "# Fit ke model\n",
    "svm_pl.fit(x_train, y_train)\n",
    "\n",
    "# Prediksi\n",
    "y_pred_svm_pl = svm_pl.predict(x_test)\n",
    "\n",
    "# Evaluasi akurasi testing data\n",
    "acc_svm_pl = accuracy_score(y_test, y_pred_svm_pl)\n",
    "\n",
    "# Print hasil evaluasi\n",
    "print(\"Test set accuracy: {:.2f}\".format(acc_svm_pl))\n",
    "print(f\"Test set accuracy: {acc_svm_pl}\")"
   ]
  },
  {
   "cell_type": "markdown",
   "metadata": {},
   "source": [
    "### Decision Tree"
   ]
  },
  {
   "cell_type": "code",
   "execution_count": null,
   "metadata": {},
   "outputs": [
    {
     "name": "stdout",
     "output_type": "stream",
     "text": [
      "Test set accuracy: 0.71\n",
      "Test set accuracy: 0.7056277056277056\n"
     ]
    }
   ],
   "source": [
    "dt = DecisionTreeClassifier()\n",
    "dt.fit(x_train, y_train)\n",
    "# Memprediksi label set test\n",
    "y_pred_dt = dt.predict(x_test)\n",
    "#  menghitung set accuracy\n",
    "acc_dt = accuracy_score(y_test, y_pred_dt)\n",
    "print(\"Test set accuracy: {:.2f}\".format(acc_dt))\n",
    "print(f\"Test set accuracy: {acc_dt}\")"
   ]
  },
  {
   "cell_type": "markdown",
   "metadata": {},
   "source": [
    "### Voting"
   ]
  },
  {
   "cell_type": "code",
   "execution_count": null,
   "metadata": {},
   "outputs": [
    {
     "name": "stdout",
     "output_type": "stream",
     "text": [
      "Voting Hard\n",
      "Test set accuracy: 0.74\n",
      "Test set accuracy: 0.7359307359307359\n"
     ]
    },
    {
     "name": "stderr",
     "output_type": "stream",
     "text": [
      "c:\\Users\\Layla\\anaconda3\\lib\\site-packages\\sklearn\\linear_model\\_logistic.py:763: ConvergenceWarning: lbfgs failed to converge (status=1):\n",
      "STOP: TOTAL NO. of ITERATIONS REACHED LIMIT.\n",
      "\n",
      "Increase the number of iterations (max_iter) or scale the data as shown in:\n",
      "    https://scikit-learn.org/stable/modules/preprocessing.html\n",
      "Please also refer to the documentation for alternative solver options:\n",
      "    https://scikit-learn.org/stable/modules/linear_model.html#logistic-regression\n",
      "  n_iter_i = _check_optimize_result(\n"
     ]
    }
   ],
   "source": [
    "# Definisikan algoritma yang akan digunakan untuk voting\n",
    "\n",
    "model1 = LogisticRegression()\n",
    "model2 = SVC(kernel='poly')\n",
    "model3 = DecisionTreeClassifier()\n",
    "\n",
    "# model hard voting\n",
    "voting = VotingClassifier(estimators=[('LogisticRegression', model1), ('SVM-POLY', model2), ('DT', model3)], voting='hard')\n",
    "\n",
    "# Fit model\n",
    "voting.fit(x_train, y_train)\n",
    "\n",
    "# Prediksi\n",
    "y_pred_vt1 = voting.predict(x_test)\n",
    "\n",
    "# Evaluasi akurasi testing data\n",
    "acc_vt1 = accuracy_score(y_test, y_pred_vt1)\n",
    "\n",
    "# Print hasil evaluasi\n",
    "print('Voting Hard')\n",
    "print(\"Test set accuracy: {:.2f}\".format(acc_vt1))\n",
    "print(f\"Test set accuracy: {acc_vt1}\")"
   ]
  }
 ],
 "metadata": {
  "kernelspec": {
   "display_name": "Python 3.8.8 ('base')",
   "language": "python",
   "name": "python3"
  },
  "language_info": {
   "codemirror_mode": {
    "name": "ipython",
    "version": 3
   },
   "file_extension": ".py",
   "mimetype": "text/x-python",
   "name": "python",
   "nbconvert_exporter": "python",
   "pygments_lexer": "ipython3",
   "version": "3.8.8"
  },
  "orig_nbformat": 4,
  "vscode": {
   "interpreter": {
    "hash": "f9184ab2ddc8f659798f178a578ee96d80d45d843af6eb73aeed9e972c7bc8f3"
   }
  }
 },
 "nbformat": 4,
 "nbformat_minor": 2
}
