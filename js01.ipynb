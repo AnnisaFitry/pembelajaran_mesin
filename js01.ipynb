{
 "cells": [
  {
   "cell_type": "code",
   "execution_count": 1,
   "metadata": {},
   "outputs": [],
   "source": [
    "#definisi rumus normalisasi\n",
    "def norm_feature(data):\n",
    "    #data max\n",
    "    n_max = max(data)\n",
    "    #data min\n",
    "    n_min = min(data)\n",
    "    #panjang data\n",
    "    l_data = len(data)\n",
    "\n",
    "    #perulangan\n",
    "    for i in range(0, l_data):\n",
    "        #mencari normalisasi\n",
    "        data[i] = (data[i] - n_min) / (n_max - n_min)\n",
    "\n",
    "    return data\n",
    "\n",
    "# rangkuman : \n",
    "# for i in '' = adalah perulangan\n",
    "# len adalah panjang data. format = len('')\n",
    "# for i in range(0,''): = perulangan dari 0 ke ''"
   ]
  },
  {
   "cell_type": "code",
   "execution_count": 2,
   "metadata": {},
   "outputs": [
    {
     "data": {
      "text/plain": [
       "[0.0, 0.375, 0.125, 0.5, 1.0]"
      ]
     },
     "execution_count": 2,
     "metadata": {},
     "output_type": "execute_result"
    }
   ],
   "source": [
    "data = [10, 25, 15, 30, 50]\n",
    "\n",
    "n_data = norm_feature(data)\n",
    "n_data"
   ]
  },
  {
   "cell_type": "code",
   "execution_count": 3,
   "metadata": {},
   "outputs": [],
   "source": [
    "import numpy as np\n",
    "from sklearn.preprocessing import MinMaxScaler"
   ]
  },
  {
   "cell_type": "code",
   "execution_count": 4,
   "metadata": {},
   "outputs": [
    {
     "data": {
      "text/plain": [
       "array([[1.        , 0.11111111],\n",
       "       [0.        , 1.        ],\n",
       "       [0.45652174, 0.        ]])"
      ]
     },
     "execution_count": 4,
     "metadata": {},
     "output_type": "execute_result"
    }
   ],
   "source": [
    "data = [\n",
    "    [100, 0.01],\n",
    "    [8, 0.05],\n",
    "    [50, 0.005]\n",
    "]\n",
    "# dengan array, len(data) hanya bisa mengakses luaran array, dari 3x2 hasilnya menjadi 3 bukan 6.\n",
    "\n",
    "# dengan numpy dapat dilihat panjang array sebenarnya.\n",
    "np_data = np.asarray(data)\n",
    "# mencari demensi array : np_data.shape\n",
    "# hasilnya (3, 2)\n",
    "mm_scaler = MinMaxScaler()\n",
    "mm_data = mm_scaler.fit_transform(data) #harus array 2 demensi\n",
    "mm_data\n"
   ]
  },
  {
   "cell_type": "code",
   "execution_count": 5,
   "metadata": {},
   "outputs": [],
   "source": [
    "#bukan array\n",
    "from statistics import mean, stdev\n",
    "def std_feature(data):\n",
    "    mean_data = mean(data)\n",
    "    std_data = stdev(data)\n",
    "    l_data = len(data)\n",
    "\n",
    "    for i in range(0, l_data):\n",
    "        data[i] = (data[i] - mean_data) / std_data\n",
    "    return data"
   ]
  },
  {
   "cell_type": "code",
   "execution_count": 6,
   "metadata": {},
   "outputs": [
    {
     "data": {
      "text/plain": [
       "[0.7071067811865476, -0.7071067811865476]"
      ]
     },
     "execution_count": 6,
     "metadata": {},
     "output_type": "execute_result"
    }
   ],
   "source": [
    "data_1 = [100, 0.001]\n",
    "data = np.asarray(data_1)\n",
    "std_data = std_feature(data_1)\n",
    "std_data"
   ]
  },
  {
   "cell_type": "code",
   "execution_count": 8,
   "metadata": {},
   "outputs": [],
   "source": [
    "#dengan array dan len\n",
    "from statistics import mean, stdev\n",
    "def std_feature(data):\n",
    "    baris_data = len(data)\n",
    "    kolom_data = len(data[0])\n",
    "\n",
    "    for i in range(0, baris_data):\n",
    "        for j in range(0, kolom_data):\n",
    "            data[i][j] = (data[i][j] - mean(data[j])) / stdev(data[j])\n",
    "    return data"
   ]
  },
  {
   "cell_type": "code",
   "execution_count": 9,
   "metadata": {},
   "outputs": [
    {
     "data": {
      "text/plain": [
       "array([[ 0.70710678, -0.71582332],\n",
       "       [ 7.95532544, -0.70710678],\n",
       "       [49.69804328, -0.59084947],\n",
       "       [87.46526419, -0.58023768],\n",
       "       [ 3.97982851, -0.57533994]])"
      ]
     },
     "execution_count": 9,
     "metadata": {},
     "output_type": "execute_result"
    }
   ],
   "source": [
    "data = [\n",
    "    [100, 0.001],\n",
    "    [8, 0.05],\n",
    "    [50, 0.005],\n",
    "    [88, 0.07],\n",
    "    [4, 0.1]\n",
    "]\n",
    "data = np.asarray(data)\n",
    "std_data = std_feature(data)\n",
    "std_data"
   ]
  },
  {
   "cell_type": "code",
   "execution_count": 16,
   "metadata": {},
   "outputs": [],
   "source": [
    "#dengan array dan shape\n",
    "from statistics import mean, stdev, pstdev\n",
    "def std_feature(data):\n",
    "    baris_data = data.shape[0]\n",
    "    kolom_data = data.shape[1]\n",
    "\n",
    "    for i in range(0, baris_data):\n",
    "        for j in range(0, kolom_data):\n",
    "            #sample = stdev, populasi = pstdev\n",
    "            data[i][j] = (data[i,j] - mean(data[:,j])) / stdev(data[:,j])\n",
    "    return data"
   ]
  },
  {
   "cell_type": "code",
   "execution_count": 17,
   "metadata": {},
   "outputs": [
    {
     "data": {
      "text/plain": [
       "array([[ 1.13053908, -1.04102352],\n",
       "       [-0.58585228,  0.43340554],\n",
       "       [ 0.54596936,  0.16378374],\n",
       "       [ 1.78715622,  0.2189989 ],\n",
       "       [ 1.53764773,  0.21485145]])"
      ]
     },
     "execution_count": 17,
     "metadata": {},
     "output_type": "execute_result"
    }
   ],
   "source": [
    "data = [\n",
    "    [100, 0.001],\n",
    "    [8, 0.05],\n",
    "    [50, 0.005],\n",
    "    [88, 0.07],\n",
    "    [4, 0.1]\n",
    "]\n",
    "data = np.asarray(data)\n",
    "std_data = std_feature(data)\n",
    "std_data"
   ]
  },
  {
   "cell_type": "code",
   "execution_count": 18,
   "metadata": {},
   "outputs": [],
   "source": [
    "data = [\n",
    "    [100, 0.001],\n",
    "    [8, 0.05],\n",
    "    [50, 0.005],\n",
    "    [88, 0.07],\n",
    "    [4, 0.1]\n",
    "]\n",
    "data = np.asarray(data)"
   ]
  },
  {
   "cell_type": "code",
   "execution_count": 19,
   "metadata": {},
   "outputs": [
    {
     "data": {
      "text/plain": [
       "array([[ 1.26398112, -1.16389967],\n",
       "       [-1.06174414,  0.12639634],\n",
       "       [ 0.        , -1.05856939],\n",
       "       [ 0.96062565,  0.65304778],\n",
       "       [-1.16286263,  1.44302493]])"
      ]
     },
     "execution_count": 19,
     "metadata": {},
     "output_type": "execute_result"
    }
   ],
   "source": [
    "#dengan function sklearn\n",
    "from sklearn.preprocessing import StandardScaler\n",
    "ss_scaler = StandardScaler()\n",
    "std_data= ss_scaler.fit_transform(data)\n",
    "std_data"
   ]
  },
  {
   "cell_type": "code",
   "execution_count": 20,
   "metadata": {},
   "outputs": [
    {
     "data": {
      "text/plain": [
       "array([[4.],\n",
       "       [0.],\n",
       "       [1.],\n",
       "       [2.],\n",
       "       [3.]])"
      ]
     },
     "execution_count": 20,
     "metadata": {},
     "output_type": "execute_result"
    }
   ],
   "source": [
    "#ordinal\n",
    "from sklearn.preprocessing import OrdinalEncoder\n",
    "oe = [\n",
    "    ['POLINEMA'],\n",
    "    ['PENS'],\n",
    "    ['PNJ'],\n",
    "    ['PNP'],\n",
    "    ['POLBAN']\n",
    "]\n",
    "ord_oe = OrdinalEncoder().fit_transform(oe)\n",
    "ord_oe"
   ]
  },
  {
   "cell_type": "code",
   "execution_count": 21,
   "metadata": {},
   "outputs": [
    {
     "data": {
      "text/plain": [
       "array([[0., 0., 0., 0., 1.],\n",
       "       [1., 0., 0., 0., 0.],\n",
       "       [0., 1., 0., 0., 0.],\n",
       "       [0., 0., 1., 0., 0.],\n",
       "       [0., 0., 0., 1., 0.]])"
      ]
     },
     "execution_count": 21,
     "metadata": {},
     "output_type": "execute_result"
    }
   ],
   "source": [
    "#one-hot\n",
    "from sklearn.preprocessing import OneHotEncoder\n",
    "oe = [\n",
    "    ['POLINEMA'],\n",
    "    ['PENS'],\n",
    "    ['PNJ'],\n",
    "    ['PNP'],\n",
    "    ['POLBAN']\n",
    "]\n",
    "ohe_oe = OneHotEncoder().fit_transform(oe)\n",
    "ohe_oe.toarray()\n"
   ]
  },
  {
   "cell_type": "code",
   "execution_count": 22,
   "metadata": {},
   "outputs": [],
   "source": [
    "#Contoh studi kasus TF-IDF: \n",
    "corpus = [\n",
    "    'the house had a tiny little mouse',\n",
    "    'the cat saw the mouse',\n",
    "    'the mouse ran away from the house',\n",
    "    'the cat finally ate the mouse',\n",
    "    'the end of the mouse story'\n",
    "]"
   ]
  },
  {
   "cell_type": "code",
   "execution_count": 30,
   "metadata": {},
   "outputs": [
    {
     "name": "stdout",
     "output_type": "stream",
     "text": [
      "['ate', 'away', 'cat', 'end', 'finally', 'house', 'little', 'mouse', 'ran', 'saw', 'story', 'tiny'] [[0.         0.         0.         0.         0.         0.4755751\n",
      "  0.58946308 0.28088232 0.         0.         0.         0.58946308]\n",
      " [0.         0.         0.58873218 0.         0.         0.\n",
      "  0.         0.34771471 0.         0.72971837 0.         0.        ]\n",
      " [0.         0.58946308 0.         0.         0.         0.4755751\n",
      "  0.         0.28088232 0.58946308 0.         0.         0.        ]\n",
      " [0.58946308 0.         0.4755751  0.         0.58946308 0.\n",
      "  0.         0.28088232 0.         0.         0.         0.        ]\n",
      " [0.         0.         0.         0.67009179 0.         0.\n",
      "  0.         0.31930233 0.         0.         0.67009179 0.        ]]\n"
     ]
    }
   ],
   "source": [
    "from sklearn.feature_extraction.text import TfidfVectorizer\n",
    "vectorizer = TfidfVectorizer(stop_words='english')\n",
    "response = vectorizer.fit_transform(corpus)\n",
    "#print(response.toarray())\n",
    "#print(response)\n",
    "a = vectorizer.get_feature_names()\n",
    "b = response.todense()\n",
    "print(a, b)"
   ]
  },
  {
   "cell_type": "code",
   "execution_count": 34,
   "metadata": {},
   "outputs": [
    {
     "data": {
      "text/plain": [
       "['the house had a tiny little mouse',\n",
       " ' the cat saw the mouse',\n",
       " ' the mouse ran away from the house',\n",
       " '']"
      ]
     },
     "execution_count": 34,
     "metadata": {},
     "output_type": "execute_result"
    }
   ],
   "source": [
    "#tambahan materi split\n",
    "sentence = 'the house had a tiny little mouse. the cat saw the mouse. the mouse ran away from the house.'\n",
    "stc_split = sentence.split('.')\n",
    "stc_split"
   ]
  },
  {
   "cell_type": "code",
   "execution_count": null,
   "metadata": {},
   "outputs": [],
   "source": [
    "# TUGAS 1\n",
    "f = open('.txt','r')\n",
    "stc = f.read()\n",
    "stc"
   ]
  }
 ],
 "metadata": {
  "kernelspec": {
   "display_name": "Python 3.8.8 ('base')",
   "language": "python",
   "name": "python3"
  },
  "language_info": {
   "codemirror_mode": {
    "name": "ipython",
    "version": 3
   },
   "file_extension": ".py",
   "mimetype": "text/x-python",
   "name": "python",
   "nbconvert_exporter": "python",
   "pygments_lexer": "ipython3",
   "version": "3.8.8"
  },
  "orig_nbformat": 4,
  "vscode": {
   "interpreter": {
    "hash": "f9184ab2ddc8f659798f178a578ee96d80d45d843af6eb73aeed9e972c7bc8f3"
   }
  }
 },
 "nbformat": 4,
 "nbformat_minor": 2
}
